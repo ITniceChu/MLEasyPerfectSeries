{
 "cells": [
  {
   "cell_type": "markdown",
   "metadata": {},
   "source": [
    "# Linear Algebra Python으로 직관력 기르기! - 기본편"
   ]
  },
  {
   "cell_type": "code",
   "execution_count": 1,
   "metadata": {},
   "outputs": [],
   "source": [
    "# 기본 라이브러리들 호출\n",
    "import pandas as pd\n",
    "import numpy as np\n",
    "import matplotlib.pyplot as plt\n",
    "import matplotlib as mpl\n",
    "# Notebook에 출력되는 그림 화질 설정 (높을수록 좋아짐)\n",
    "mpl.rcParams['figure.dpi']= 100"
   ]
  },
  {
   "cell_type": "markdown",
   "metadata": {},
   "source": [
    "# Step 1: 데이터 가져오기\n",
    "* 이번 강의에서는 저번에 Linear Regression에서 썼던 데이터를 다시 쓰려고 합니다.\n",
    "* 데이터 내용은 사람의 몸무게 관련 데이터입니다.\n",
    "* 데이터 출처: https://www.kaggle.com/yersever/500-person-gender-height-weight-bodymassindex"
   ]
  },
  {
   "cell_type": "code",
   "execution_count": 2,
   "metadata": {},
   "outputs": [
    {
     "data": {
      "text/html": [
       "<div>\n",
       "<style scoped>\n",
       "    .dataframe tbody tr th:only-of-type {\n",
       "        vertical-align: middle;\n",
       "    }\n",
       "\n",
       "    .dataframe tbody tr th {\n",
       "        vertical-align: top;\n",
       "    }\n",
       "\n",
       "    .dataframe thead th {\n",
       "        text-align: right;\n",
       "    }\n",
       "</style>\n",
       "<table border=\"1\" class=\"dataframe\">\n",
       "  <thead>\n",
       "    <tr style=\"text-align: right;\">\n",
       "      <th></th>\n",
       "      <th>Gender</th>\n",
       "      <th>Height</th>\n",
       "      <th>Weight</th>\n",
       "      <th>Index</th>\n",
       "    </tr>\n",
       "  </thead>\n",
       "  <tbody>\n",
       "    <tr>\n",
       "      <th>0</th>\n",
       "      <td>Male</td>\n",
       "      <td>174</td>\n",
       "      <td>96</td>\n",
       "      <td>4</td>\n",
       "    </tr>\n",
       "    <tr>\n",
       "      <th>1</th>\n",
       "      <td>Male</td>\n",
       "      <td>189</td>\n",
       "      <td>87</td>\n",
       "      <td>2</td>\n",
       "    </tr>\n",
       "    <tr>\n",
       "      <th>2</th>\n",
       "      <td>Female</td>\n",
       "      <td>185</td>\n",
       "      <td>110</td>\n",
       "      <td>4</td>\n",
       "    </tr>\n",
       "    <tr>\n",
       "      <th>3</th>\n",
       "      <td>Female</td>\n",
       "      <td>195</td>\n",
       "      <td>104</td>\n",
       "      <td>3</td>\n",
       "    </tr>\n",
       "    <tr>\n",
       "      <th>4</th>\n",
       "      <td>Male</td>\n",
       "      <td>149</td>\n",
       "      <td>61</td>\n",
       "      <td>3</td>\n",
       "    </tr>\n",
       "    <tr>\n",
       "      <th>...</th>\n",
       "      <td>...</td>\n",
       "      <td>...</td>\n",
       "      <td>...</td>\n",
       "      <td>...</td>\n",
       "    </tr>\n",
       "    <tr>\n",
       "      <th>495</th>\n",
       "      <td>Female</td>\n",
       "      <td>150</td>\n",
       "      <td>153</td>\n",
       "      <td>5</td>\n",
       "    </tr>\n",
       "    <tr>\n",
       "      <th>496</th>\n",
       "      <td>Female</td>\n",
       "      <td>184</td>\n",
       "      <td>121</td>\n",
       "      <td>4</td>\n",
       "    </tr>\n",
       "    <tr>\n",
       "      <th>497</th>\n",
       "      <td>Female</td>\n",
       "      <td>141</td>\n",
       "      <td>136</td>\n",
       "      <td>5</td>\n",
       "    </tr>\n",
       "    <tr>\n",
       "      <th>498</th>\n",
       "      <td>Male</td>\n",
       "      <td>150</td>\n",
       "      <td>95</td>\n",
       "      <td>5</td>\n",
       "    </tr>\n",
       "    <tr>\n",
       "      <th>499</th>\n",
       "      <td>Male</td>\n",
       "      <td>173</td>\n",
       "      <td>131</td>\n",
       "      <td>5</td>\n",
       "    </tr>\n",
       "  </tbody>\n",
       "</table>\n",
       "<p>500 rows × 4 columns</p>\n",
       "</div>"
      ],
      "text/plain": [
       "     Gender  Height  Weight  Index\n",
       "0      Male     174      96      4\n",
       "1      Male     189      87      2\n",
       "2    Female     185     110      4\n",
       "3    Female     195     104      3\n",
       "4      Male     149      61      3\n",
       "..      ...     ...     ...    ...\n",
       "495  Female     150     153      5\n",
       "496  Female     184     121      4\n",
       "497  Female     141     136      5\n",
       "498    Male     150      95      5\n",
       "499    Male     173     131      5\n",
       "\n",
       "[500 rows x 4 columns]"
      ]
     },
     "execution_count": 2,
     "metadata": {},
     "output_type": "execute_result"
    }
   ],
   "source": [
    "# pandas라이브러리를 이용해서 읽습니다. \n",
    "# 해당 파일이 노트북과 같은 폴더 위치에 있어야합니다.\n",
    "# 아니라면 C:\\로 시작하는 디렉토리를 입력하세요.\n",
    "df = pd.read_csv('500_weight_height.csv')\n",
    "df"
   ]
  },
  {
   "cell_type": "markdown",
   "metadata": {},
   "source": [
    "# Step 2: 필요한 데이터만 추출하기\n",
    "* 모델 피팅(회귀)를 쉽게 하기 위해서 특정 조건을 가진 열(row)들만 추출합니다.\n",
    "* 남자의 몸무게와 키 중에서 BMI가 정상인 축에 속하는 사람만을 추출합니다."
   ]
  },
  {
   "cell_type": "code",
   "execution_count": 3,
   "metadata": {},
   "outputs": [],
   "source": [
    "# df.Index 행에서 2는 정상적 BMI를 마킹한 것입니다.\n",
    "df_temp = df[(df.Gender=='Male')&(df.Index==2)]\n",
    "# temp는 temporary(일시적인)의 약자로 썼습니다.\n",
    "# df는 dataframe의 약자입니다. Dataframe은 파이썬의\n",
    "# Pandas 라이브러리에서 표(테이블)을 뜻합니다."
   ]
  },
  {
   "cell_type": "markdown",
   "metadata": {},
   "source": [
    "# Step 3: 한 줄로 선형 회귀 완성"
   ]
  },
  {
   "cell_type": "code",
   "execution_count": 4,
   "metadata": {},
   "outputs": [],
   "source": [
    "# Scikit-Learn(싸이킷-런)에서 선형 회귀 함수 호출\n",
    "from sklearn.linear_model import LinearRegression\n",
    "# 그냥 fit()한번이면 바로 끝납니다! fit을 사용하게 되면 회귀를 위한\n",
    "# 기울기와 y절편이 reg에 오브젝트 형식으로 저장되는 것입니다.\n",
    "# 문법은 fit(x,y)입니다. 그리고 x는 2차원 행렬이어야해서,\n",
    "# 1차원 행렬인 df_temp.Height에 .value.reshape(-1,1)을 해주어야합니다.\n",
    "reg = LinearRegression().fit(df_temp.Height.values.reshape(-1,1), df_temp.Weight)"
   ]
  },
  {
   "cell_type": "markdown",
   "metadata": {},
   "source": [
    "# Step 4: 한 줄로 회귀선 불러오기"
   ]
  },
  {
   "cell_type": "code",
   "execution_count": 5,
   "metadata": {},
   "outputs": [],
   "source": [
    "# 회귀 선을 그래프에 표현하려면 우리가 만든 회귀 오브젝트로 수백 수천개의 \n",
    "# 점들을 촘촘하게 예측하게 해야합니다.\n",
    "# 생성된 x들이라는 의미의 x_generated에 150, 150.1, 150.2, ..., 200에\n",
    "# 해당하는 숫자들을 생성해서 저장시킵니다.\n",
    "# 그 후에 .reshape(-1,1)로 2차원 배열로 만드는 동시에\n",
    "# 모든 값들을 예측하도록 합니다.\n",
    "# 쉽게 생각하면 reg라는 변수에는 현재 회귀선의 기울기와 y절편이 이미\n",
    "# 저장된 상태이고 reg.predict()를 호출하면 그 기울기와 y절편으로 y값을\n",
    "# 예측하는 것입니다.\n",
    "x_generated = np.array(list(range(1500,2000)))/10\n",
    "pred_line = reg.predict(x_generated.reshape(-1,1))"
   ]
  },
  {
   "cell_type": "code",
   "execution_count": 6,
   "metadata": {},
   "outputs": [
    {
     "data": {
      "text/plain": [
       "Text(0, 0.5, 'Weight')"
      ]
     },
     "execution_count": 6,
     "metadata": {},
     "output_type": "execute_result"
    },
    {
     "data": {
      "image/png": "[encoded data removed]",
      "text/plain": [
       "<Figure size 600x400 with 1 Axes>"
      ]
     },
     "metadata": {
      "needs_background": "light"
     },
     "output_type": "display_data"
    }
   ],
   "source": [
    "# 원래의 데이터들을 찍어봅니다. 파란색점으로 표시됩니다.\n",
    "plt.scatter(df_temp.Height, df_temp.Weight)\n",
    "# 방금 reg.predict로 만든 수백개의 주황색 점을 찍어서 마치 선인 것처럼 보이게 했습니다.\n",
    "plt.scatter((np.array(list(range(1500,2000)))/10),pred_line,s=3) \n",
    "# X축과 Y축 그리고 제목을 답니다.\n",
    "plt.title('Normal BMI Profiles',fontsize=14)\n",
    "plt.xlabel('Height',fontsize=14)\n",
    "plt.ylabel('Weight',fontsize=14)"
   ]
  },
  {
   "cell_type": "markdown",
   "metadata": {},
   "source": [
    "# Step 4(부록): 그래프 표현 두 번째 방식"
   ]
  },
  {
   "cell_type": "code",
   "execution_count": 7,
   "metadata": {},
   "outputs": [
    {
     "data": {
      "text/plain": [
       "Text(0, 0.5, 'Weight')"
      ]
     },
     "execution_count": 7,
     "metadata": {},
     "output_type": "execute_result"
    },
    {
     "data": {
      "image/png": "[encoded data removed]",
      "text/plain": [
       "<Figure size 600x400 with 1 Axes>"
      ]
     },
     "metadata": {
      "needs_background": "light"
     },
     "output_type": "display_data"
    }
   ],
   "source": [
    "# 원래의 데이터들을 찍어봅니다. 파란색점으로 표시됩니다.\n",
    "plt.scatter(df_temp.Height, df_temp.Weight)\n",
    "# plt.plot은 수백개의 점을 찍지 않고 그냥 선으로 긋는 방식입니다.\n",
    "# 대신 점의 사이즈는 s말고 markersize로 바꾸어야합니다.\n",
    "plt.plot((np.array(list(range(1500,2000)))/10),pred_line,markersize=5,c='red') \n",
    "# X축과 Y축 그리고 제목을 답니다.\n",
    "plt.title('Normal BMI Profiles',fontsize=14)\n",
    "plt.xlabel('Height',fontsize=14)\n",
    "plt.ylabel('Weight',fontsize=14)"
   ]
  },
  {
   "cell_type": "markdown",
   "metadata": {},
   "source": [
    "# Step 5: 스코어로 우리의 모델 채점해보기"
   ]
  },
  {
   "cell_type": "markdown",
   "metadata": {},
   "source": [
    "Scikit-Learn(싸이킷-런)에서 .score(x,y)라는 함수가 있습니다. 이 함수로 R-squared 지표를\n",
    "빠르게 뽑아볼 수 있습니다. 아래 R-squared 공식을 살펴보면 분모에는 평균값과 y값들의 차이, 그리고\n",
    "분자에는 예측값과 y값들의 차이가 나옵니다. 그 두 차이 간의 비율을 비교하는 것이 R-squared 지표입니다.\n",
    "직관적으로 생각해보세요. 우리는 보통 무언가 대충 어림잡아 예측할 때 평균값을 사용합니다. 그 평균값으로\n",
    "예측하는 것과 우리가 사용하는 모델이 예측하는 것을 비교하는 것이 R-squared입니다!!! R-squared가 양수이면\n",
    "그만큼 우리의 모델이 낫다는 뜻이고 R-squared가 음수이면 그만큼 우리의 모델이 평균값보다 덜 좋다는 뜻입니다.\n",
    "R-squared가 음수인 모델들은 그렇게 흔하지는 않습니다. 더욱 와닿게 설명하기 위해 아래에 그래프를 그려드리겠습니다.\n",
    "* $$R^2 = 1-\\frac{\\sum_{i=1}^n(\\hat{y}_i-y_i)^2}{\\sum_{i=1}^n(\\bar{y}_i-y_i)^2}$$"
   ]
  },
  {
   "cell_type": "code",
   "execution_count": 8,
   "metadata": {},
   "outputs": [
    {
     "data": {
      "text/plain": [
       "Text(0, 0.5, 'Weight')"
      ]
     },
     "execution_count": 8,
     "metadata": {},
     "output_type": "execute_result"
    },
    {
     "data": {
      "image/png": "[encoded data removed]",
      "text/plain": [
       "<Figure size 600x400 with 1 Axes>"
      ]
     },
     "metadata": {
      "needs_background": "light"
     },
     "output_type": "display_data"
    }
   ],
   "source": [
    "# R-squared 직관적으로 이해하기!!!\n",
    "\n",
    "# 원래의 y_i 데이터 점으로 찍기\n",
    "plt.scatter(df_temp.Height, df_temp.Weight)\n",
    "# 회귀선 그리기 (빨간색)\n",
    "plt.plot((np.array(list(range(1500,2000)))/10),pred_line,markersize=5,c='red',label=1) \n",
    "# 평균값 선 그리기 (초록색)\n",
    "y_avg = np.mean(df_temp.Weight)\n",
    "plt.plot([150,200],[y_avg,y_avg],markersize=5,c='green',label=2)\n",
    "# Legend 표기\n",
    "plt.legend(['Linear Regreession', 'Average Value'])\n",
    "# X축과 Y축 그리고 제목을 답니다.\n",
    "plt.title('Normal BMI Profiles',fontsize=14)\n",
    "plt.xlabel('Height',fontsize=14)\n",
    "plt.ylabel('Weight',fontsize=14)\n",
    "\n",
    "# 우리가 예측했던 것 처럼 회귀 선인 빨간색선이 초록색 평균값 선보다 훨씬 좋아보입니다."
   ]
  },
  {
   "cell_type": "code",
   "execution_count": 9,
   "metadata": {},
   "outputs": [
    {
     "data": {
      "text/plain": [
       "0.8431175329717986"
      ]
     },
     "execution_count": 9,
     "metadata": {},
     "output_type": "execute_result"
    }
   ],
   "source": [
    "# R-squared 값은 -1~1만 존재합니다. 우리의 모델인 빨간선이 더 잘하고 있기 때문에 R-squared 값은\n",
    "# 양수인 것을 이미 예상하고 있었습니다. 실제 R-squared 값을 호출해보니, 양수인 것을 넘어,\n",
    "# 꽤 높은 R-squared 값을 기록하고 있습니다. 0.84면 1에 꽤나 가까운 값이네요.\n",
    "# 1은 완벽한 fit을 말하지만, 1이 나온다는 것은 모델이 쓰레기라는 뜻일 가능성이 높습니다.\n",
    "# 왜냐하면, 실생활에서 통계학자들은 랜덤한 변수들이 주는 오차들 때문에 R-squared가\n",
    "# 1이 되는 것은 말이 되지 않는다고 생각하기 때문입니다. 모델이 과하게 좋은 지표를\n",
    "# 내놓을 경우에는, overfit을 의심해야합니다. Overfit이란 모델이 현재 데이터에 과도하게\n",
    "# 적응하여서, 새로운 데이터 값이 왔을 때에는 오히려 더 안좋은 결과값을 내놓을 수 있다는\n",
    "# 현상을 가리키는 말입니다. \n",
    "reg.score(df_temp.Height.values.reshape(-1,1), df_temp.Weight)"
   ]
  },
  {
   "cell_type": "markdown",
   "metadata": {},
   "source": [
    "# Step 6: 기울기와 절편 추출\n",
    ".coef_ 와 .intercept로 뽑을 수 있습니다."
   ]
  },
  {
   "cell_type": "code",
   "execution_count": 16,
   "metadata": {},
   "outputs": [
    {
     "name": "stdout",
     "output_type": "stream",
     "text": [
      "0.7974290113510227\n",
      "-69.72084362803028\n"
     ]
    }
   ],
   "source": [
    "print(reg.coef_[0]) #기울기\n",
    "print(reg.intercept_) # y절편"
   ]
  },
  {
   "cell_type": "code",
   "execution_count": null,
   "metadata": {},
   "outputs": [],
   "source": []
  },
  {
   "cell_type": "code",
   "execution_count": null,
   "metadata": {},
   "outputs": [],
   "source": []
  },
  {
   "cell_type": "code",
   "execution_count": null,
   "metadata": {},
   "outputs": [],
   "source": []
  }
 ],
 "metadata": {
  "kernelspec": {
   "display_name": "Python 3",
   "language": "python",
   "name": "python3"
  },
  "language_info": {
   "codemirror_mode": {
    "name": "ipython",
    "version": 3
   },
   "file_extension": ".py",
   "mimetype": "text/x-python",
   "name": "python",
   "nbconvert_exporter": "python",
   "pygments_lexer": "ipython3",
   "version": "3.6.10"
  }
 },
 "nbformat": 4,
 "nbformat_minor": 4
}
