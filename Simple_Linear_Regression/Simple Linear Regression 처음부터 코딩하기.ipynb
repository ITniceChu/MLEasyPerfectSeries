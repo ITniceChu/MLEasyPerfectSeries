{
 "cells": [
  {
   "cell_type": "markdown",
   "metadata": {},
   "source": [
    "# Simple Linear Regression 처음부터 코딩하기!"
   ]
  },
  {
   "cell_type": "code",
   "execution_count": 2,
   "metadata": {},
   "outputs": [],
   "source": [
    "# 기본 라이브러리들 호출\n",
    "import numpy as np\n",
    "import pandas as pd\n",
    "import matplotlib.pyplot as plt"
   ]
  },
  {
   "cell_type": "markdown",
   "metadata": {},
   "source": [
    "# Step 1-1: Fit Function 만들기\n",
    "$$\\beta_0=\\bar{Y}-\\beta_1*\\bar{x}$$\n",
    "$$\\beta_1=\\frac{\\sum^n_{i=1}(Y_i-\\bar{Y})x_i}{\\sum^n_{i=1}(x_i-\\bar{x})x_i}$$\n",
    "이미 우리는 Simple Linear Regression에서 기울기와 절편을 구하는 방법을 알고 있습니다. \n",
    "수리통계학적 배경에서 이미 다뤘던 공식들입니다. 이제 이 공식들을 간단하게 코딩하기만하면 됩니다. Fit은 훈련시키다, 맞추다, 회귀시키다와 같은 의미를 가지고 있습니다. Scikit-Learn을 쓰면서 우리는 .fit()이라는 함수를 여러번 봤습니다. 이는 .train()이라고 명명했어도 됐지만, .fit()이 수많은 라이브러리에서 쓰이는 무언의 약속과 같기에, 여기서도 훈련함수를 fit()으로 정의하겠습니다."
   ]
  },
  {
   "cell_type": "code",
   "execution_count": 4,
   "metadata": {},
   "outputs": [],
   "source": [
    "# fit 함수 만들기\n",
    "def fit(x_data, y_data):\n",
    "    # 평균치 bar변수에 넣기\n",
    "    x_bar = np.mean(x_data)\n",
    "    y_bar = np.mean(y_data)\n",
    "    # 기울기와 절편 계산하기\n",
    "    beta_1 = np.sum((y_data-y_bar)*x_data)/np.sum((x_data-x_bar)*x_data)\n",
    "    beta_0 = y_bar - beta_1*x_bar\n",
    "    return beta_0, beta_1 # 값 리턴"
   ]
  },
  {
   "cell_type": "markdown",
   "metadata": {},
   "source": [
    "# Step 1-2: Fit 함수를 Regressor클래스에 넣기\n",
    "사실 위의 fit함수의 리턴 값을 변수로 받아서 해도되지만, 이 강의는 전공자들을 위한 것이기에\n",
    "클래스를 만들고 그 안에 저장하겠습니다."
   ]
  },
  {
   "cell_type": "code",
   "execution_count": null,
   "metadata": {},
   "outputs": [],
   "source": [
    "class SimpleLinearRegression:\n",
    "    # 생성자\n",
    "    def __init__(self):\n",
    "        self.beta_0 = None\n",
    "        self.beta_1 = None\n",
    "        \n",
    "    # 저장된 기울기와 절편을 따로 뽑는 함수\n",
    "    def coefs(self):\n",
    "        return np.array([beta_0, beta_1])\n",
    "    \n",
    "    # fit함수\n",
    "    def fit(self, x_data, y_data):\n",
    "        # 평균치 bar변수에 넣기\n",
    "        x_bar = np.mean(x_data)\n",
    "        y_bar = np.mean(y_data)\n",
    "        # 기울기와 절편 계산하기\n",
    "        beta_1 = np.sum((y_data-y_bar)*x_data)/np.sum((x_data-x_bar)*x_data)\n",
    "        beta_0 = y_bar - beta_1*x_bar\n",
    "        # 리턴 대신 인스턴스 변수에 저장\n",
    "        self.beta_0 = beta_0\n",
    "        self.beta_1 = beta_1"
   ]
  },
  {
   "cell_type": "markdown",
   "metadata": {},
   "source": [
    "# Step 2-1: Predict Function 만들기\n",
    "새로운 값을 넣었을 때 예측을 가능하게 하는 predict 함수를 만들어줍니다."
   ]
  },
  {
   "cell_type": "code",
   "execution_count": null,
   "metadata": {},
   "outputs": [],
   "source": [
    "# predict 함수 만들기\n",
    "def predict(new_x_data, beta_0, beta_1):\n",
    "    \n",
    "    # 인풋되는 new_x_data가 numpy의 행렬 클래스타입임을 체크합니다.\n",
    "    if (type(new_x_data)!='numpy.ndarray'):\n",
    "        print('새로운 x 데이터가 numpy.ndarray가 아닙니다!')\n",
    "        \n",
    "    # 연산하고 리턴\n",
    "    predicted_y_data = beta_0 + beta_1*new_x_data\n",
    "    return predicted_y_data"
   ]
  },
  {
   "cell_type": "markdown",
   "metadata": {},
   "source": [
    "# Step 2-2: Predict 함수를 Regressor클래스에 넣기"
   ]
  },
  {
   "cell_type": "code",
   "execution_count": 50,
   "metadata": {},
   "outputs": [],
   "source": [
    "class SimpleLinearRegression:\n",
    "    # 생성자\n",
    "    def __init__(self):\n",
    "        self.beta_0 = 0\n",
    "        self.beta_1 = 0\n",
    "    \n",
    "    # 저장된 기울기와 절편을 따로 뽑는 함수\n",
    "    def coefs(self):\n",
    "        return np.array([self.beta_0, self.beta_1])\n",
    "\n",
    "    # fit 함수\n",
    "    def fit(self, x_data, y_data):\n",
    "        # 평균치 bar변수에 넣기\n",
    "        x_bar = np.mean(x_data)\n",
    "        y_bar = np.mean(y_data)\n",
    "        # 기울기와 절편 계산하기\n",
    "        beta_1 = np.sum((y_data-y_bar)*x_data)/np.sum((x_data-x_bar)*x_data)\n",
    "        beta_0 = y_bar - beta_1*x_bar\n",
    "        # 리턴 대신 인스턴스 변수에 저장\n",
    "        self.beta_0 = beta_0\n",
    "        self.beta_1 = beta_1\n",
    "        \n",
    "    # predict 함수\n",
    "    # 이제 beta_0, beta_1 을 파라미터로 받지 않아도 됩니다.\n",
    "    def predict(self, new_x_data):\n",
    "    \n",
    "        # 인풋되는 new_x_data가 numpy의 행렬 클래스타입임을 체크합니다.\n",
    "        if (type(new_x_data)!='numpy.ndarray'):\n",
    "            print('새로운 x 데이터가 numpy.ndarray가 아닙니다!')\n",
    "\n",
    "        # 저장된 beta_0, beta_1로 연산하고 리턴\n",
    "        predicted_y_data = self.beta_0 + self.beta_1*new_x_data\n",
    "        return predicted_y_data"
   ]
  },
  {
   "cell_type": "markdown",
   "metadata": {},
   "source": [
    "# Step 3: Scikit-Learn과 비교해보기\n",
    "이제 우리가 만든 SimpleLinearRegression 클래스와 Scikit-Learn의\n",
    "결과값이 차이가 나는지 봅시다."
   ]
  },
  {
   "cell_type": "markdown",
   "metadata": {},
   "source": [
    "# Step 3-1: 데이터 만들기\n",
    "이번 강의에서는 데이터를 불러오지 않고 직접 간단하게 만들어봅시다."
   ]
  },
  {
   "cell_type": "code",
   "execution_count": 30,
   "metadata": {},
   "outputs": [
    {
     "data": {
      "text/plain": [
       "array([ 1.31275626, -1.20791568,  0.92081091,  2.84853062,  1.01503823,\n",
       "       -0.45456691, -0.30525463,  1.33428607, -2.87716748,  0.72847217,\n",
       "       -1.78172808,  2.61574843,  1.71918821,  1.30161998, -1.8616237 ,\n",
       "        0.81415361,  1.18673008, -1.16770774, -0.95566574, -3.27247847])"
      ]
     },
     "execution_count": 30,
     "metadata": {},
     "output_type": "execute_result"
    }
   ],
   "source": [
    "# Numpy에서 랜덤 변수를 생성하기 위해 정규분포 함수를 가져옵니다.\n",
    "# 참고 문서: https://docs.scipy.org/doc/numpy-1.15.0/reference/generated/numpy.random.normal.html\n",
    "np.random.normal(0,2,20) # 평균(mu), 표준편차(sigma), 개수"
   ]
  },
  {
   "cell_type": "code",
   "execution_count": 41,
   "metadata": {},
   "outputs": [
    {
     "data": {
      "text/plain": [
       "Text(0, 0.5, 'generated y')"
      ]
     },
     "execution_count": 41,
     "metadata": {},
     "output_type": "execute_result"
    },
    {
     "data": {
      "image/png": "[encoded data removed]",
      "text/plain": [
       "<Figure size 432x288 with 1 Axes>"
      ]
     },
     "metadata": {
      "needs_background": "light"
     },
     "output_type": "display_data"
    }
   ],
   "source": [
    "# 이전 셀은 예시였고, 이제 일정한 값에 랜덤 값 더해서 저장합니다.\n",
    "# linspace는 일정한 간격으로 수들을 생성합니다.\n",
    "# 참고 문서: https://numpy.org/doc/stable/reference/generated/numpy.linspace.html\n",
    "x_generated = np.linspace(0,15,100) + np.random.normal(0,2,100)\n",
    "y_generated = np.linspace(0,35,100) + np.random.normal(0,0.5,100)\n",
    "# 한번 시각화해서 살펴봅니다.\n",
    "plt.scatter(x_generated, y_generated)\n",
    "plt.xlabel('generated x')\n",
    "plt.ylabel('generated y')"
   ]
  },
  {
   "cell_type": "markdown",
   "metadata": {},
   "source": [
    "# Step 3-2: Scikit-Learn으로 기울기와 절편 구하기"
   ]
  },
  {
   "cell_type": "code",
   "execution_count": 52,
   "metadata": {},
   "outputs": [
    {
     "name": "stdout",
     "output_type": "stream",
     "text": [
      "기울기: 1.8724532712072912\n",
      "절편: 3.6509907043133154\n"
     ]
    }
   ],
   "source": [
    "from sklearn.linear_model import LinearRegression\n",
    "reg = LinearRegression().fit(x_generated.reshape(-1,1), y_generated)\n",
    "print('기울기:', reg.coef_[0])\n",
    "print('절편:', reg.intercept_)"
   ]
  },
  {
   "cell_type": "markdown",
   "metadata": {},
   "source": [
    "# Step 3-3: 우리의 클래스로 기울기와 절편 구하기"
   ]
  },
  {
   "cell_type": "code",
   "execution_count": 51,
   "metadata": {},
   "outputs": [
    {
     "data": {
      "text/plain": [
       "array([3.6509907 , 1.87245327])"
      ]
     },
     "execution_count": 51,
     "metadata": {},
     "output_type": "execute_result"
    }
   ],
   "source": [
    "regressor = SimpleLinearRegression() # 클래스 생성\n",
    "regressor.fit(x_generated, y_generated) # fit으로 beta_0, beta_1 계산 후 저장\n",
    "regressor.coefs() # 기울기와 절편이 일치합니다!!!!!!!!!"
   ]
  },
  {
   "cell_type": "code",
   "execution_count": null,
   "metadata": {},
   "outputs": [],
   "source": []
  }
 ],
 "metadata": {
  "kernelspec": {
   "display_name": "Python 3",
   "language": "python",
   "name": "python3"
  },
  "language_info": {
   "codemirror_mode": {
    "name": "ipython",
    "version": 3
   },
   "file_extension": ".py",
   "mimetype": "text/x-python",
   "name": "python",
   "nbconvert_exporter": "python",
   "pygments_lexer": "ipython3",
   "version": "3.6.10"
  }
 },
 "nbformat": 4,
 "nbformat_minor": 4
}
