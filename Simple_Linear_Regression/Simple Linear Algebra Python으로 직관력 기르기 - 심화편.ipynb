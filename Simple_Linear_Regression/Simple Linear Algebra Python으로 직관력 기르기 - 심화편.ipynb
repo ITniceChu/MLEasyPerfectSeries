{
 "cells": [
  {
   "cell_type": "markdown",
   "metadata": {},
   "source": [
    "# Linear Algebra Python으로 직관력 기르기! - 심화편"
   ]
  },
  {
   "cell_type": "code",
   "execution_count": 1,
   "metadata": {},
   "outputs": [],
   "source": [
    "# 기본 라이브러리들 호출\n",
    "import pandas as pd\n",
    "import numpy as np\n",
    "import matplotlib.pyplot as plt\n",
    "import matplotlib as mpl\n",
    "# Notebook에 출력되는 그림 화질 설정 (높을수록 좋아짐)\n",
    "mpl.rcParams['figure.dpi']= 100\n",
    "# Notebook에 한글이 깨지지 않도록 폰트 지정 (에러 나시면 지우거나 폰트를 바꾸세요)\n",
    "plt.rcParams[\"font.family\"] = 'NanumGothic'"
   ]
  },
  {
   "cell_type": "markdown",
   "metadata": {},
   "source": [
    "# Step 1: 데이터 가져오기\n",
    "* 이번 강의에 사용될 데이터는 동물 관련 데이터입니다.\n",
    "* 28가지 동물들의 두뇌 크기와 몸무게를 비교한 데이터입니다.\n",
    "* 데이터 출처: https://stat.ethz.ch/R-manual/R-devel/library/MASS/html/Animals.html"
   ]
  },
  {
   "cell_type": "code",
   "execution_count": 2,
   "metadata": {
    "scrolled": true
   },
   "outputs": [
    {
     "data": {
      "text/html": [
       "<div>\n",
       "<style scoped>\n",
       "    .dataframe tbody tr th:only-of-type {\n",
       "        vertical-align: middle;\n",
       "    }\n",
       "\n",
       "    .dataframe tbody tr th {\n",
       "        vertical-align: top;\n",
       "    }\n",
       "\n",
       "    .dataframe thead th {\n",
       "        text-align: right;\n",
       "    }\n",
       "</style>\n",
       "<table border=\"1\" class=\"dataframe\">\n",
       "  <thead>\n",
       "    <tr style=\"text-align: right;\">\n",
       "      <th></th>\n",
       "      <th>body</th>\n",
       "      <th>brain</th>\n",
       "    </tr>\n",
       "  </thead>\n",
       "  <tbody>\n",
       "    <tr>\n",
       "      <th>0</th>\n",
       "      <td>1.350</td>\n",
       "      <td>8.1</td>\n",
       "    </tr>\n",
       "    <tr>\n",
       "      <th>1</th>\n",
       "      <td>465.000</td>\n",
       "      <td>423.0</td>\n",
       "    </tr>\n",
       "    <tr>\n",
       "      <th>2</th>\n",
       "      <td>36.330</td>\n",
       "      <td>119.5</td>\n",
       "    </tr>\n",
       "    <tr>\n",
       "      <th>3</th>\n",
       "      <td>27.660</td>\n",
       "      <td>115.0</td>\n",
       "    </tr>\n",
       "    <tr>\n",
       "      <th>4</th>\n",
       "      <td>1.040</td>\n",
       "      <td>5.5</td>\n",
       "    </tr>\n",
       "    <tr>\n",
       "      <th>5</th>\n",
       "      <td>11700.000</td>\n",
       "      <td>50.0</td>\n",
       "    </tr>\n",
       "    <tr>\n",
       "      <th>6</th>\n",
       "      <td>2547.000</td>\n",
       "      <td>4603.0</td>\n",
       "    </tr>\n",
       "    <tr>\n",
       "      <th>7</th>\n",
       "      <td>187.100</td>\n",
       "      <td>419.0</td>\n",
       "    </tr>\n",
       "    <tr>\n",
       "      <th>8</th>\n",
       "      <td>521.000</td>\n",
       "      <td>655.0</td>\n",
       "    </tr>\n",
       "    <tr>\n",
       "      <th>9</th>\n",
       "      <td>10.000</td>\n",
       "      <td>115.0</td>\n",
       "    </tr>\n",
       "    <tr>\n",
       "      <th>10</th>\n",
       "      <td>3.300</td>\n",
       "      <td>25.6</td>\n",
       "    </tr>\n",
       "    <tr>\n",
       "      <th>11</th>\n",
       "      <td>529.000</td>\n",
       "      <td>680.0</td>\n",
       "    </tr>\n",
       "    <tr>\n",
       "      <th>12</th>\n",
       "      <td>207.000</td>\n",
       "      <td>406.0</td>\n",
       "    </tr>\n",
       "    <tr>\n",
       "      <th>13</th>\n",
       "      <td>62.000</td>\n",
       "      <td>1320.0</td>\n",
       "    </tr>\n",
       "    <tr>\n",
       "      <th>14</th>\n",
       "      <td>6654.000</td>\n",
       "      <td>5712.0</td>\n",
       "    </tr>\n",
       "    <tr>\n",
       "      <th>15</th>\n",
       "      <td>9400.000</td>\n",
       "      <td>70.0</td>\n",
       "    </tr>\n",
       "    <tr>\n",
       "      <th>16</th>\n",
       "      <td>6.800</td>\n",
       "      <td>179.0</td>\n",
       "    </tr>\n",
       "    <tr>\n",
       "      <th>17</th>\n",
       "      <td>35.000</td>\n",
       "      <td>56.0</td>\n",
       "    </tr>\n",
       "    <tr>\n",
       "      <th>18</th>\n",
       "      <td>0.120</td>\n",
       "      <td>1.0</td>\n",
       "    </tr>\n",
       "    <tr>\n",
       "      <th>19</th>\n",
       "      <td>0.023</td>\n",
       "      <td>0.4</td>\n",
       "    </tr>\n",
       "    <tr>\n",
       "      <th>20</th>\n",
       "      <td>2.500</td>\n",
       "      <td>12.1</td>\n",
       "    </tr>\n",
       "    <tr>\n",
       "      <th>21</th>\n",
       "      <td>55.500</td>\n",
       "      <td>175.0</td>\n",
       "    </tr>\n",
       "    <tr>\n",
       "      <th>22</th>\n",
       "      <td>100.000</td>\n",
       "      <td>157.0</td>\n",
       "    </tr>\n",
       "    <tr>\n",
       "      <th>23</th>\n",
       "      <td>52.160</td>\n",
       "      <td>440.0</td>\n",
       "    </tr>\n",
       "    <tr>\n",
       "      <th>24</th>\n",
       "      <td>0.280</td>\n",
       "      <td>1.9</td>\n",
       "    </tr>\n",
       "    <tr>\n",
       "      <th>25</th>\n",
       "      <td>87000.000</td>\n",
       "      <td>154.5</td>\n",
       "    </tr>\n",
       "    <tr>\n",
       "      <th>26</th>\n",
       "      <td>0.122</td>\n",
       "      <td>3.0</td>\n",
       "    </tr>\n",
       "    <tr>\n",
       "      <th>27</th>\n",
       "      <td>192.000</td>\n",
       "      <td>180.0</td>\n",
       "    </tr>\n",
       "  </tbody>\n",
       "</table>\n",
       "</div>"
      ],
      "text/plain": [
       "         body   brain\n",
       "0       1.350     8.1\n",
       "1     465.000   423.0\n",
       "2      36.330   119.5\n",
       "3      27.660   115.0\n",
       "4       1.040     5.5\n",
       "5   11700.000    50.0\n",
       "6    2547.000  4603.0\n",
       "7     187.100   419.0\n",
       "8     521.000   655.0\n",
       "9      10.000   115.0\n",
       "10      3.300    25.6\n",
       "11    529.000   680.0\n",
       "12    207.000   406.0\n",
       "13     62.000  1320.0\n",
       "14   6654.000  5712.0\n",
       "15   9400.000    70.0\n",
       "16      6.800   179.0\n",
       "17     35.000    56.0\n",
       "18      0.120     1.0\n",
       "19      0.023     0.4\n",
       "20      2.500    12.1\n",
       "21     55.500   175.0\n",
       "22    100.000   157.0\n",
       "23     52.160   440.0\n",
       "24      0.280     1.9\n",
       "25  87000.000   154.5\n",
       "26      0.122     3.0\n",
       "27    192.000   180.0"
      ]
     },
     "execution_count": 2,
     "metadata": {},
     "output_type": "execute_result"
    }
   ],
   "source": [
    "# pandas로 csv파일을 읽어서 dataframe을 만듭니다.\n",
    "df = pd.read_csv('Animals.csv') \n",
    "df"
   ]
  },
  {
   "cell_type": "markdown",
   "metadata": {},
   "source": [
    "# Step 2: Plot으로 데이터 파악하기"
   ]
  },
  {
   "cell_type": "code",
   "execution_count": 3,
   "metadata": {},
   "outputs": [
    {
     "data": {
      "text/plain": [
       "Text(0.5, 1.0, '동물들의 몸무게 vs 두뇌 무게')"
      ]
     },
     "execution_count": 3,
     "metadata": {},
     "output_type": "execute_result"
    },
    {
     "data": {
      "image/png": "[encoded data removed]",
      "text/plain": [
       "<Figure size 600x400 with 1 Axes>"
      ]
     },
     "metadata": {
      "needs_background": "light"
     },
     "output_type": "display_data"
    }
   ],
   "source": [
    "plt.scatter(df.body, df.brain,s=5)\n",
    "plt.xlabel('몸무게(kg)', fontsize=14)\n",
    "plt.ylabel('두뇌 무게(g)',fontsize=14)\n",
    "plt.title('동물들의 몸무게 vs 두뇌 무게')\n",
    "# 데이터들이 대부분 좌측 하단에 뭉쳐 있어 보입니다."
   ]
  },
  {
   "cell_type": "code",
   "execution_count": 33,
   "metadata": {},
   "outputs": [
    {
     "data": {
      "image/png": "[encoded data removed]",
      "text/plain": [
       "<Figure size 600x400 with 1 Axes>"
      ]
     },
     "metadata": {
      "needs_background": "light"
     },
     "output_type": "display_data"
    },
    {
     "data": {
      "image/png": "[encoded data removed]",
      "text/plain": [
       "<Figure size 600x400 with 1 Axes>"
      ]
     },
     "metadata": {
      "needs_background": "light"
     },
     "output_type": "display_data"
    }
   ],
   "source": [
    "# 히스토그램으로 한번 분포를 파악해봅시다.\n",
    "# brain 분포\n",
    "plt.hist(df.brain)\n",
    "plt.xlabel('뇌의 무게(g)')\n",
    "plt.ylabel('동물(마리)')\n",
    "plt.show() #show를 써줘야 한 개의 셀 안에 여러개의 그래프 출력이 됩니다.\n",
    "# body 분포\n",
    "plt.hist(df.body)\n",
    "plt.xlabel('몸무게(kg)')\n",
    "plt.ylabel('동물(마리)')\n",
    "plt.show()\n",
    "# 두 그래프 모두 심각하게 Right Skewed 되어있습니다."
   ]
  },
  {
   "cell_type": "markdown",
   "metadata": {},
   "source": [
    "# Step 3: Scikit-Learn을 이용해서 모델 트레이닝!"
   ]
  },
  {
   "cell_type": "code",
   "execution_count": 4,
   "metadata": {},
   "outputs": [],
   "source": [
    "# Scikit-Learn(싸이킷 런)에서 선형 회귀 라이브러리를 불러옵니다.\n",
    "# 문서 참고: https://scikit-learn.org/stable/modules/generated/sklearn.linear_model.LinearRegression.html\n",
    "from sklearn.linear_model import LinearRegression "
   ]
  },
  {
   "cell_type": "code",
   "execution_count": 79,
   "metadata": {},
   "outputs": [
    {
     "ename": "ValueError",
     "evalue": "Expected 2D array, got 1D array instead:\narray=[1.350e+00 4.650e+02 3.633e+01 2.766e+01 1.040e+00 1.170e+04 2.547e+03\n 1.871e+02 5.210e+02 1.000e+01 3.300e+00 5.290e+02 2.070e+02 6.200e+01\n 6.654e+03 9.400e+03 6.800e+00 3.500e+01 1.200e-01 2.300e-02 2.500e+00\n 5.550e+01 1.000e+02 5.216e+01 2.800e-01 8.700e+04 1.220e-01 1.920e+02].\nReshape your data either using array.reshape(-1, 1) if your data has a single feature or array.reshape(1, -1) if it contains a single sample.",
     "output_type": "error",
     "traceback": [
      "\u001b[1;31m---------------------------------------------------------------------------\u001b[0m",
      "\u001b[1;31mValueError\u001b[0m                                Traceback (most recent call last)",
      "\u001b[1;32m<ipython-input-79-b24e376d5c95>\u001b[0m in \u001b[0;36m<module>\u001b[1;34m\u001b[0m\n\u001b[0;32m      1\u001b[0m \u001b[1;31m# LinearRegression.fit(x,y)는 x와 y에 대해 선형 회귀를 해서 클래스를 출력합니다.\u001b[0m\u001b[1;33m\u001b[0m\u001b[1;33m\u001b[0m\u001b[1;33m\u001b[0m\u001b[0m\n\u001b[1;32m----> 2\u001b[1;33m \u001b[0mreg\u001b[0m \u001b[1;33m=\u001b[0m \u001b[0mLinearRegression\u001b[0m\u001b[1;33m(\u001b[0m\u001b[1;33m)\u001b[0m\u001b[1;33m.\u001b[0m\u001b[0mfit\u001b[0m\u001b[1;33m(\u001b[0m\u001b[0mdf\u001b[0m\u001b[1;33m.\u001b[0m\u001b[0mbody\u001b[0m\u001b[1;33m,\u001b[0m \u001b[0mdf\u001b[0m\u001b[1;33m.\u001b[0m\u001b[0mbrain\u001b[0m\u001b[1;33m)\u001b[0m\u001b[1;33m\u001b[0m\u001b[1;33m\u001b[0m\u001b[0m\n\u001b[0m\u001b[0;32m      3\u001b[0m \u001b[1;31m# 해당 셀을 실행시키면 에러가 납니다.\u001b[0m\u001b[1;33m\u001b[0m\u001b[1;33m\u001b[0m\u001b[1;33m\u001b[0m\u001b[0m\n\u001b[0;32m      4\u001b[0m \u001b[1;31m# 문구는 \"Reshape your data either using array.reshape(-1, 1)\"라고 나옵니다.\u001b[0m\u001b[1;33m\u001b[0m\u001b[1;33m\u001b[0m\u001b[1;33m\u001b[0m\u001b[0m\n",
      "\u001b[1;32m~\\Anaconda3\\lib\\site-packages\\sklearn\\linear_model\\_base.py\u001b[0m in \u001b[0;36mfit\u001b[1;34m(self, X, y, sample_weight)\u001b[0m\n\u001b[0;32m    490\u001b[0m         \u001b[0mn_jobs_\u001b[0m \u001b[1;33m=\u001b[0m \u001b[0mself\u001b[0m\u001b[1;33m.\u001b[0m\u001b[0mn_jobs\u001b[0m\u001b[1;33m\u001b[0m\u001b[1;33m\u001b[0m\u001b[0m\n\u001b[0;32m    491\u001b[0m         X, y = check_X_y(X, y, accept_sparse=['csr', 'csc', 'coo'],\n\u001b[1;32m--> 492\u001b[1;33m                          y_numeric=True, multi_output=True)\n\u001b[0m\u001b[0;32m    493\u001b[0m \u001b[1;33m\u001b[0m\u001b[0m\n\u001b[0;32m    494\u001b[0m         \u001b[1;32mif\u001b[0m \u001b[0msample_weight\u001b[0m \u001b[1;32mis\u001b[0m \u001b[1;32mnot\u001b[0m \u001b[1;32mNone\u001b[0m\u001b[1;33m:\u001b[0m\u001b[1;33m\u001b[0m\u001b[1;33m\u001b[0m\u001b[0m\n",
      "\u001b[1;32m~\\Anaconda3\\lib\\site-packages\\sklearn\\utils\\validation.py\u001b[0m in \u001b[0;36mcheck_X_y\u001b[1;34m(X, y, accept_sparse, accept_large_sparse, dtype, order, copy, force_all_finite, ensure_2d, allow_nd, multi_output, ensure_min_samples, ensure_min_features, y_numeric, warn_on_dtype, estimator)\u001b[0m\n\u001b[0;32m    753\u001b[0m                     \u001b[0mensure_min_features\u001b[0m\u001b[1;33m=\u001b[0m\u001b[0mensure_min_features\u001b[0m\u001b[1;33m,\u001b[0m\u001b[1;33m\u001b[0m\u001b[1;33m\u001b[0m\u001b[0m\n\u001b[0;32m    754\u001b[0m                     \u001b[0mwarn_on_dtype\u001b[0m\u001b[1;33m=\u001b[0m\u001b[0mwarn_on_dtype\u001b[0m\u001b[1;33m,\u001b[0m\u001b[1;33m\u001b[0m\u001b[1;33m\u001b[0m\u001b[0m\n\u001b[1;32m--> 755\u001b[1;33m                     estimator=estimator)\n\u001b[0m\u001b[0;32m    756\u001b[0m     \u001b[1;32mif\u001b[0m \u001b[0mmulti_output\u001b[0m\u001b[1;33m:\u001b[0m\u001b[1;33m\u001b[0m\u001b[1;33m\u001b[0m\u001b[0m\n\u001b[0;32m    757\u001b[0m         y = check_array(y, 'csr', force_all_finite=True, ensure_2d=False,\n",
      "\u001b[1;32m~\\Anaconda3\\lib\\site-packages\\sklearn\\utils\\validation.py\u001b[0m in \u001b[0;36mcheck_array\u001b[1;34m(array, accept_sparse, accept_large_sparse, dtype, order, copy, force_all_finite, ensure_2d, allow_nd, ensure_min_samples, ensure_min_features, warn_on_dtype, estimator)\u001b[0m\n\u001b[0;32m    554\u001b[0m                     \u001b[1;34m\"Reshape your data either using array.reshape(-1, 1) if \"\u001b[0m\u001b[1;33m\u001b[0m\u001b[1;33m\u001b[0m\u001b[0m\n\u001b[0;32m    555\u001b[0m                     \u001b[1;34m\"your data has a single feature or array.reshape(1, -1) \"\u001b[0m\u001b[1;33m\u001b[0m\u001b[1;33m\u001b[0m\u001b[0m\n\u001b[1;32m--> 556\u001b[1;33m                     \"if it contains a single sample.\".format(array))\n\u001b[0m\u001b[0;32m    557\u001b[0m \u001b[1;33m\u001b[0m\u001b[0m\n\u001b[0;32m    558\u001b[0m         \u001b[1;31m# in the future np.flexible dtypes will be handled like object dtypes\u001b[0m\u001b[1;33m\u001b[0m\u001b[1;33m\u001b[0m\u001b[1;33m\u001b[0m\u001b[0m\n",
      "\u001b[1;31mValueError\u001b[0m: Expected 2D array, got 1D array instead:\narray=[1.350e+00 4.650e+02 3.633e+01 2.766e+01 1.040e+00 1.170e+04 2.547e+03\n 1.871e+02 5.210e+02 1.000e+01 3.300e+00 5.290e+02 2.070e+02 6.200e+01\n 6.654e+03 9.400e+03 6.800e+00 3.500e+01 1.200e-01 2.300e-02 2.500e+00\n 5.550e+01 1.000e+02 5.216e+01 2.800e-01 8.700e+04 1.220e-01 1.920e+02].\nReshape your data either using array.reshape(-1, 1) if your data has a single feature or array.reshape(1, -1) if it contains a single sample."
     ]
    }
   ],
   "source": [
    "# LinearRegression.fit(x,y)는 x와 y에 대해 선형 회귀를 해서 클래스를 출력합니다.\n",
    "reg = LinearRegression().fit(df.body, df.brain)\n",
    "# 해당 셀을 실행시키면 에러가 납니다.\n",
    "# 문구는 \"Reshape your data either using array.reshape(-1, 1)\"라고 나옵니다."
   ]
  },
  {
   "cell_type": "code",
   "execution_count": 6,
   "metadata": {},
   "outputs": [],
   "source": [
    "# 에러를 해결하려면 df.body행의 형태를 바꾸어 주어야 합니다.\n",
    "reg = LinearRegression().fit(df.body.values.reshape(-1,1), df.brain)"
   ]
  },
  {
   "cell_type": "code",
   "execution_count": 7,
   "metadata": {},
   "outputs": [
    {
     "name": "stdout",
     "output_type": "stream",
     "text": [
      "1. df.body는 Series 타입입니다:\n",
      "<class 'pandas.core.series.Series'>\n",
      "2. df.body.values는 df.body를 1차원 행렬 numpy타입으로 바꿉니다:\n",
      "<class 'numpy.ndarray'>\n",
      "3. 이제 reshape(-1,1)을 통해 df.body.values를 2차원 행렬로 바꿉니다:\n",
      "[[1.350e+00]\n",
      " [4.650e+02]\n",
      " [3.633e+01]\n",
      " [2.766e+01]\n",
      " [1.040e+00]\n",
      " [1.170e+04]\n",
      " [2.547e+03]\n",
      " [1.871e+02]\n",
      " [5.210e+02]\n",
      " [1.000e+01]\n",
      " [3.300e+00]\n",
      " [5.290e+02]\n",
      " [2.070e+02]\n",
      " [6.200e+01]\n",
      " [6.654e+03]\n",
      " [9.400e+03]\n",
      " [6.800e+00]\n",
      " [3.500e+01]\n",
      " [1.200e-01]\n",
      " [2.300e-02]\n",
      " [2.500e+00]\n",
      " [5.550e+01]\n",
      " [1.000e+02]\n",
      " [5.216e+01]\n",
      " [2.800e-01]\n",
      " [8.700e+04]\n",
      " [1.220e-01]\n",
      " [1.920e+02]]\n",
      "4. 1차원 행렬은 대괄호가 좌우로 한 개씩 있습니다. 3번처럼 대괄호가 두 개씩 있어야 합니다.\n",
      "[1.350e+00 4.650e+02 3.633e+01 2.766e+01 1.040e+00 1.170e+04 2.547e+03\n",
      " 1.871e+02 5.210e+02 1.000e+01 3.300e+00 5.290e+02 2.070e+02 6.200e+01\n",
      " 6.654e+03 9.400e+03 6.800e+00 3.500e+01 1.200e-01 2.300e-02 2.500e+00\n",
      " 5.550e+01 1.000e+02 5.216e+01 2.800e-01 8.700e+04 1.220e-01 1.920e+02]\n"
     ]
    }
   ],
   "source": [
    "# 이 이유에 대해 설명해드리겠습니다.\n",
    "\n",
    "# 싸이킷 런의 모델을 트레이닝 시킬 때 혹은 회귀 시킬 때, y는 상관 없지만\n",
    "# x는 꼭 2차원 행렬이어야만 합니다.\n",
    "\n",
    "# 하지만!!! df.body는 pandas의 Series 오브젝트 타입이고 Series 오브젝트는\n",
    "# 오로지 list만을 표현하며 이는 1차원 행렬입니다.\n",
    "# 이 Series오브젝트를 numpy오브젝트로 바꾸어 주어야 reshape를 통해\n",
    "# df.body를 2차원 행렬로 바꿀 수 있습니다.\n",
    "print('1. df.body는 Series 타입입니다:')\n",
    "print(type(df.body))\n",
    "print('2. df.body.values는 df.body를 1차원 행렬 numpy타입으로 바꿉니다:')\n",
    "print(type(df.body.values))\n",
    "print('3. 이제 reshape(-1,1)을 통해 df.body.values를 2차원 행렬로 바꿉니다:')\n",
    "print(df.body.values.reshape(-1,1))\n",
    "print('4. 1차원 행렬은 대괄호가 좌우로 한 개씩 있습니다. 3번처럼 대괄호가 두 개씩 있어야 합니다.')\n",
    "print(df.body.values)"
   ]
  },
  {
   "cell_type": "markdown",
   "metadata": {},
   "source": [
    "# Step 4: 회귀 선을 그려봐요!"
   ]
  },
  {
   "cell_type": "code",
   "execution_count": 8,
   "metadata": {},
   "outputs": [],
   "source": [
    "# 우리가 훈련(회귀)시킨 모델로 몸무게가 0~80000kg인 동물들을 모두 예측해봅니다.\n",
    "x_generated = np.array(list(range(0,80000))).reshape(-1,1) # 0~80000까지 생성\n",
    "predicted_y = reg.predict(x_generated) # 0~80000kg 몸무게 모두 예측해서 저장"
   ]
  },
  {
   "cell_type": "code",
   "execution_count": 9,
   "metadata": {},
   "outputs": [
    {
     "data": {
      "text/plain": [
       "Text(0.5, 1.0, '동물들의 몸무게 vs 두뇌 무게')"
      ]
     },
     "execution_count": 9,
     "metadata": {},
     "output_type": "execute_result"
    },
    {
     "data": {
      "image/png": "[encoded data removed]",
      "text/plain": [
       "<Figure size 600x400 with 1 Axes>"
      ]
     },
     "metadata": {
      "needs_background": "light"
     },
     "output_type": "display_data"
    }
   ],
   "source": [
    "# 모델로 예측한 값들로 회귀 선을 그립니다(빨간색 선)\n",
    "plt.plot(df.body, df.brain,linestyle='none',marker='.',markersize=5)\n",
    "plt.plot(x_generated,predicted_y,markersize=5,c='red')\n",
    "plt.xlabel('몸무게(kg)', fontsize=14)\n",
    "plt.ylabel('두뇌 무게(g)',fontsize=14)\n",
    "plt.title('동물들의 몸무게 vs 두뇌 무게')\n",
    "# 뭔가 이상해보이지 않나요?\n",
    "# 선형 회귀에서는 한 점이 멀리 있을 때 지렛대처럼 강하게 누르는 힘이 있습니다."
   ]
  },
  {
   "cell_type": "markdown",
   "metadata": {},
   "source": [
    "# Step 5: 레버리지 해결하기!\n",
    "* 가능한 방법들:\n",
    "    1. 데이터 지우기\n",
    "    2. Transformation(변환)\n",
    "    3. Weighted Least Squares\n",
    "    4. Generalized Linear Model\n",
    "    5. 그 외 다양한 Regression방식들\n",
    "* 이번 강의에서는 1번과 2번을 살펴볼 것입니다! 3/4/5번은 다른 강의에서 나중에 추가로 설명해드리겠습니다."
   ]
  },
  {
   "cell_type": "markdown",
   "metadata": {},
   "source": [
    "# Step 5-1: 데이터 지우기\n",
    "* 데이터 지우기는 오로지 맞는 상황에서만 사용해야합니다.\n",
    "* 데이터를 그냥 막 지우는 것은 정말 위험합니다.\n",
    "* 데이터를 지울 수 있는 근거는 아래가 대표적입니다:\n",
    "    * 데이터 수집과정에서 오류가 있었다는 것을 알았을 때.\n",
    "    * 크게 중요하지 않거나 극소수의 데이터가 멀리 있을 때. (꼭 제외한 사실을 기록해서 자신의 연구의 한계를 알 수 있게 합니다.)\n",
    "    * 분포에서 특정 부분만을 설명하고 싶을 때. (이 또한 연구의 한계점에 기록되어야 합니다.)"
   ]
  },
  {
   "cell_type": "code",
   "execution_count": 27,
   "metadata": {},
   "outputs": [],
   "source": [
    "# 몸무게가 1톤 보다 적고 뇌 무게가 2kg 보다 적은 동물만 저장합니다.\n",
    "df_temp = df[(df.brain<2000) & (df.body<1000)]"
   ]
  },
  {
   "cell_type": "code",
   "execution_count": 82,
   "metadata": {},
   "outputs": [
    {
     "data": {
      "image/png": "[encoded data removed]",
      "text/plain": [
       "<Figure size 600x400 with 1 Axes>"
      ]
     },
     "metadata": {
      "needs_background": "light"
     },
     "output_type": "display_data"
    },
    {
     "data": {
      "image/png": "[encoded data removed]",
      "text/plain": [
       "<Figure size 600x400 with 1 Axes>"
      ]
     },
     "metadata": {
      "needs_background": "light"
     },
     "output_type": "display_data"
    },
    {
     "data": {
      "image/png": "[encoded data removed]",
      "text/plain": [
       "<Figure size 600x400 with 1 Axes>"
      ]
     },
     "metadata": {
      "needs_background": "light"
     },
     "output_type": "display_data"
    }
   ],
   "source": [
    "plt.plot(df_temp.body, df_temp.brain,linestyle='none',marker='.',markersize=5)\n",
    "plt.xlabel('몸무게(kg)', fontsize=14)\n",
    "plt.ylabel('두뇌 무게(g)',fontsize=14)\n",
    "plt.title('데이터 지우기 완료')\n",
    "plt.show()\n",
    "# brain 분포\n",
    "plt.hist(df_temp.brain)\n",
    "plt.xlabel('뇌의 무게(g)')\n",
    "plt.ylabel('동물(마리)')\n",
    "plt.title('뇌의 무게 분포')\n",
    "plt.show() #show를 써줘야 한 개의 셀 안에 여러개의 그래프 출력이 됩니다.\n",
    "# body 분포\n",
    "plt.hist(df_temp.body)\n",
    "plt.xlabel('몸무게(kg)')\n",
    "plt.ylabel('동물(마리)')\n",
    "plt.title('몸무게 분포')\n",
    "plt.show()\n",
    "# 데이터로 몇개의 데이터를 지웠는데도 아직 레버리지가 강한 점들이 있습니다.\n",
    "# 레버리지를 더 정확히 파악할 수 있는 지표들은 Cook's distance와 같은 것들이 있습니다만,\n",
    "# 사실 지표들을 쓰기 보다는 그래프를 보고 눈으로 파악하는 것이 더 효율적이라고 생각합니다.\n",
    "# 지표들도 어차피 다 상대적인 것이기에, 지표는 부가적인 도움을 줄 뿐입니다.\n",
    "# 이 모델을 사용해도 되는지는 모두 연구자의 몫입니다.\n",
    "# 하지만 우리의 경우에는 큰 outlier들을 지워도 아직 분포가 Right Skewed 인것으로 보입니다.\n",
    "# 고로, 데이터 지우기로는 트렌드를 파악할 수 없어 보입니다.\n",
    "# 만약에 우리가 추려낸 동물 데이터의 분포가 덜 비대칭적(skewed)였다면 \n",
    "# 선형 회귀를 쓸 수 있었을 것입니다."
   ]
  },
  {
   "cell_type": "markdown",
   "metadata": {},
   "source": [
    "# 5-2 Transformation(변환)\n",
    "* 변환은 x나 y, 혹은 둘 모두를 특정 함수로 변환시켜서 선형 회귀를 쉽게 만드는 과정입니다.\n",
    "* 가장 많이 쓰이는 변환은 로그 변환(Log Transformation)입니다.\n",
    "* Box-Cox Tranformation과 Square Root Transformation이 두 번째와 세 번째로 유명합니다.\n",
    "* 실제 사용함에 있어서 Log Transformation 보다 Box-Cox나 Square Root이 월등히 좋은 경우는 매우 드뭅니다.\n",
    "* 프로젝트에 변환을 사용하실 생각이라면 로그 변환이면 99% 충분할 것입니다.\n",
    "* Box-Cox는 나중에 부록으로 다룰 예정입니다.\n",
    "* 변환을 하고 예측을 한 뒤에는 꼭 역변환(Inverse Transformation)을 해주어야합니다!!!"
   ]
  },
  {
   "cell_type": "code",
   "execution_count": 45,
   "metadata": {},
   "outputs": [
    {
     "data": {
      "text/plain": [
       "Text(0.5, 1.0, '로그 변환 후 몸무게 vs 두뇌 무게')"
      ]
     },
     "execution_count": 45,
     "metadata": {},
     "output_type": "execute_result"
    },
    {
     "name": "stderr",
     "output_type": "stream",
     "text": [
      "C:\\Users\\koole\\Anaconda3\\lib\\site-packages\\matplotlib\\backends\\backend_agg.py:211: RuntimeWarning: Glyph 8722 missing from current font.\n",
      "  font.set_text(s, 0.0, flags=flags)\n",
      "C:\\Users\\koole\\Anaconda3\\lib\\site-packages\\matplotlib\\backends\\backend_agg.py:180: RuntimeWarning: Glyph 8722 missing from current font.\n",
      "  font.set_text(s, 0, flags=flags)\n"
     ]
    },
    {
     "data": {
      "image/png": "[encoded data removed]",
      "text/plain": [
       "<Figure size 600x400 with 1 Axes>"
      ]
     },
     "metadata": {
      "needs_background": "light"
     },
     "output_type": "display_data"
    }
   ],
   "source": [
    "# 변환 방식은 간단합니다. np.log() 함수를 우리의 x/y데이터에 입히면 자동으로\n",
    "# 모든 데이터가 로그 변환됩니다.\n",
    "plt.plot(np.log(df.body), np.log(df.brain),linestyle='none',marker='.',markersize=5)\n",
    "plt.xlabel('log(몸무게(kg))', fontsize=14)\n",
    "plt.ylabel('log(두뇌 무게(g))',fontsize=14)\n",
    "plt.title('로그 변환 후 몸무게 vs 두뇌 무게')\n",
    "# \"...RuntimeWarning: Glyph 8722...\"은 \n",
    "# 나눔고딕에 마이너스가 없어서 발생하는 에러로 보입니다. \n",
    "# x축을 보시면 -4와 -2가 제대로 표시 되지 않지만 \n",
    "# 큰 문제는 안되기에 잠정적으로 냅두겠습니다.\n",
    "\n",
    "# 아래 plot에서 이제는 선형 회귀하기 매우 좋은 트렌드가 되었습니다."
   ]
  },
  {
   "cell_type": "code",
   "execution_count": 52,
   "metadata": {},
   "outputs": [],
   "source": [
    "# 이제 로그 변환된 데이터에 선형 회귀를 해봅시다.\n",
    "# 모델 훈련(회귀)\n",
    "reg = LinearRegression().fit(np.log(df.body.values.reshape(-1,1)), np.log(df.brain))\n",
    "# 모델 예측(회귀선 저장)\n",
    "x_generated = np.array(list(range(-40,120)))/10\n",
    "predicted_y = reg.predict(x_generated.reshape(-1,1))"
   ]
  },
  {
   "cell_type": "code",
   "execution_count": 54,
   "metadata": {},
   "outputs": [
    {
     "data": {
      "text/plain": [
       "Text(0.5, 1.0, '로그 변환 후 몸무게 vs 두뇌 무게')"
      ]
     },
     "execution_count": 54,
     "metadata": {},
     "output_type": "execute_result"
    },
    {
     "name": "stderr",
     "output_type": "stream",
     "text": [
      "C:\\Users\\koole\\Anaconda3\\lib\\site-packages\\matplotlib\\backends\\backend_agg.py:211: RuntimeWarning: Glyph 8722 missing from current font.\n",
      "  font.set_text(s, 0.0, flags=flags)\n",
      "C:\\Users\\koole\\Anaconda3\\lib\\site-packages\\matplotlib\\backends\\backend_agg.py:180: RuntimeWarning: Glyph 8722 missing from current font.\n",
      "  font.set_text(s, 0, flags=flags)\n"
     ]
    },
    {
     "data": {
      "image/png": "[encoded data removed]",
      "text/plain": [
       "<Figure size 600x400 with 1 Axes>"
      ]
     },
     "metadata": {
      "needs_background": "light"
     },
     "output_type": "display_data"
    }
   ],
   "source": [
    "plt.plot(np.log(df.body), np.log(df.brain),linestyle='none',marker='.',markersize=5)\n",
    "plt.plot(x_generated, predicted_y)\n",
    "plt.xlabel('log(몸무게(kg))', fontsize=14)\n",
    "plt.ylabel('log(두뇌 무게(g))',fontsize=14)\n",
    "plt.title('로그 변환 후 몸무게 vs 두뇌 무게')\n",
    "# 아직도 살짝 오른쪽 점들에 레버리지가 강해서 선이 눌립니다.\n",
    "# 이정도 눌림은 연구자가 직접 정해서 어떻게 조치를 취할지 정해야합니다.\n",
    "# 일단 여기서는 더 조치를 취하지 않고 역변환을 하겠습니다."
   ]
  },
  {
   "cell_type": "code",
   "execution_count": 62,
   "metadata": {},
   "outputs": [
    {
     "data": {
      "text/plain": [
       "Text(0.5, 1.0, '지수 변환(역변환) 후 몸무게 vs 두뇌 무게')"
      ]
     },
     "execution_count": 62,
     "metadata": {},
     "output_type": "execute_result"
    },
    {
     "data": {
      "image/png": "[encoded data removed]",
      "text/plain": [
       "<Figure size 600x400 with 1 Axes>"
      ]
     },
     "metadata": {
      "needs_background": "light"
     },
     "output_type": "display_data"
    }
   ],
   "source": [
    "# 역변환 (Inverse Transformation)\n",
    "# 역변환을 해주려면 log의 역함수인 지수함수를 입혀야합니다!!!\n",
    "# 지수함수는 np.log()처럼 np.exp()로 입힐 수 있습니다.\n",
    "plt.plot(df.body, df.brain,linestyle='none',marker='.',markersize=5)\n",
    "plt.plot(np.exp(x_generated), np.exp(predicted_y)) # 역변환 시켜줍니다!!!\n",
    "plt.xlabel('log(몸무게(kg))', fontsize=14)\n",
    "plt.ylabel('log(두뇌 무게(g))',fontsize=14)\n",
    "plt.xlim(-5000,100000)\n",
    "plt.title('지수 변환(역변환) 후 몸무게 vs 두뇌 무게')\n",
    "# 이제 x축과 y축이 원래 스케일대로 돌아왔습니다!!!"
   ]
  },
  {
   "cell_type": "code",
   "execution_count": null,
   "metadata": {},
   "outputs": [],
   "source": [
    "# Squared Root Transformation을 사용할 때에는 \n",
    "# 데이터에 루트를 씌우는 것이라 역변환이 제곱이나 세제곱이 됩니다.\n",
    "# Box-Cox는 루트를 더 복잡하게 개조해서 사용하기에 역변환도 복잡한 식입니다."
   ]
  },
  {
   "cell_type": "markdown",
   "metadata": {},
   "source": [
    "# Step 6: 모델 평가(Model Evaluation)\n",
    "* 여러 모델들을 비교하는 데에 사용되는 척도(metric)들은 꽤 다양합니다.\n",
    "* 모델마다 사용할 수 있는 척도도 조금씩 바뀝니다.\n",
    "* AIC, BIC, Cook's Distance, 등등과 같은 부차적인 지표들은 부록으로 나중에 올리겠습니다.\n",
    "* 선형 회귀의 경우 아래의 척도(metric)들이 자주 쓰입니다.\n",
    "    1. RMSE\n",
    "    2. MAE\n",
    "    3. R-squared\n",
    "    4. R-squared-adjusted\n",
    "    5. MAPE\n",
    "* 이번 강의에서는 RMSE와 R-squared와 MAPE를 사용해 봅시다. 나머지 지표들도 나중에 후속강의들에서 꾸준히 다뤄질 것입니다.\n",
    "* RMSE는 Root Mean Squared Error의 약자입니다. Overfit에 대한 Penalty가 큰 지표입니다.\n",
    "    * $$RMSE = \\sqrt{\\frac{\\sum_{i=1}^n(\\hat{y}_i-y_i)^2}{n}}$$\n",
    "* R-squared는 우리 모델이 데이터의 분산을 얼마나 잘 캡쳐하는지에 대한 지표입니다.\n",
    "    * $$R^2 = 1-\\frac{\\sum_{i=1}^n(\\hat{y}_i-y_i)^2}{\\sum_{i=1}^n(\\bar{y}_i-y_i)^2}$$\n",
    "* MAPE(Mean Absolute Percentage Error)는 상대적 에러 지표입니다. RMSE와 MAE는 에러량을 절대량으로 비교하지만 MAPE는 상대적으로 비교합니다. 현재 우리의 데이터가 심하게 비대칭적(Right Skewed)이기 때문에, MAPE로 따지는 것은 상당히 의미가 있습니다.\n",
    "    * $$MAPE = \\frac{100}{n}*\\sum_{i=1}^n|\\frac{y-\\hat{y}}{y}|$$"
   ]
  },
  {
   "cell_type": "markdown",
   "metadata": {},
   "source": [
    "# Step 6-1: 두개의 모델 RMSE 비교"
   ]
  },
  {
   "cell_type": "code",
   "execution_count": 69,
   "metadata": {},
   "outputs": [
    {
     "name": "stdout",
     "output_type": "stream",
     "text": [
      "1310.8557437036327\n"
     ]
    }
   ],
   "source": [
    "# 모델 1\n",
    "\n",
    "# Step4에서의 원래의 레버리지 해결이 안된 모델로 RMSE 구해보기\n",
    "reg = LinearRegression().fit(df.body.values.reshape(-1,1), df.brain) #원래의 값으로 모델 피팅\n",
    "brain_predicted = reg.predict(df.body.values.reshape(-1,1)) # df.body값을 회귀선으로 예측\n",
    "y_hat = brain_predicted # 위에 나온 RMSE 공식에서 y_hat이 곧 회귀선으로 우리가 예측한 값들입니다!\n",
    "y = df.brain # 위의 RMSE 공식에서 y는 원래의 brain의 값이 되겠죠?\n",
    "squared_error = (y_hat-y)**2 # 파이썬에서는 **2가 제곱입니다.\n",
    "rmse_레버리지_해결_안된_모델 = np.sqrt(np.sum(squared_error)/len(squared_error))\n",
    "print(rmse_레버리지_해결_안된_모델)"
   ]
  },
  {
   "cell_type": "code",
   "execution_count": 70,
   "metadata": {},
   "outputs": [
    {
     "name": "stdout",
     "output_type": "stream",
     "text": [
      "1400.8535115184798\n"
     ]
    }
   ],
   "source": [
    "#모델 2\n",
    "\n",
    "# Step 5-2에서 로그 변환 후 역변환 모델로 RMSE 구해보기\n",
    "reg = LinearRegression().fit(np.log(df.body.values.reshape(-1,1)), np.log(df.brain)) #변환된 값으로 모델 피팅\n",
    "brain_predicted = reg.predict(np.log(df.body.values.reshape(-1,1))) # log(df.body)값을 회귀선으로 예측\n",
    "y_hat = np.exp(brain_predicted) # 역변환으로 지수변환 해줍니다.\n",
    "y = df.brain\n",
    "squared_error = (y_hat-y)**2 \n",
    "rmse_레버리지_해결_된_모델 = np.sqrt(np.sum(squared_error)/len(squared_error))\n",
    "print(rmse_레버리지_해결_된_모델)"
   ]
  },
  {
   "cell_type": "markdown",
   "metadata": {},
   "source": [
    "레버리지 해결을 안한 모델이 RMSE가 더 낮습니다! RMSE는 낮을수록 좋습니다. 왜냐하면 말그대로 Error지표니까요. 우리가 고생해서 로그 변환하고 다시 역변환해서 나온 값이 그냥 쌩으로 선형 회귀한 모델보다 에러값이 더 큽니다. 그럼 모델 1이 더 나은 모델일까요? R-squared를 먼저 계산해보고 어떤 모델이 더 나은건지 다시 생각해봅시다."
   ]
  },
  {
   "cell_type": "markdown",
   "metadata": {},
   "source": [
    "# Step 6-2: 두개의 모델 R-squared비교"
   ]
  },
  {
   "cell_type": "code",
   "execution_count": 72,
   "metadata": {},
   "outputs": [
    {
     "data": {
      "text/plain": [
       "2.852801750596878e-05"
      ]
     },
     "execution_count": 72,
     "metadata": {},
     "output_type": "execute_result"
    }
   ],
   "source": [
    "# 모델 1\n",
    "\n",
    "# Step4에서의 원래의 레버리지 해결이 안된 모델로 R-squared 구해보기\n",
    "reg = LinearRegression().fit(df.body.values.reshape(-1,1), df.brain) #원래의 값으로 모델 피팅\n",
    "# 싸이킷-런 라이브러리에 r-squared는 .score() 함수로 쉽게 호출 가능합니다.\n",
    "# (RMSE도 불러올 수 있긴합니다만 이번 강의에서는 그냥 손으로 했습니다.)\n",
    "reg.score(df.body.values.reshape(-1,1),df.brain)"
   ]
  },
  {
   "cell_type": "code",
   "execution_count": 75,
   "metadata": {},
   "outputs": [
    {
     "data": {
      "text/plain": [
       "-0.14199250553889686"
      ]
     },
     "execution_count": 75,
     "metadata": {},
     "output_type": "execute_result"
    }
   ],
   "source": [
    "#모델 2\n",
    "\n",
    "# Step 5-2에서 로그 변환 후 역변환 모델로 R-squared 구해보기\n",
    "reg = LinearRegression().fit(np.log(df.body.values.reshape(-1,1)), np.log(df.brain)) #변환된 값으로 모델 피팅\n",
    "brain_predicted = reg.predict(np.log(df.body.values.reshape(-1,1))) # log(df.body)값을 회귀선으로 예측\n",
    "# 이번에는 .score을 쓸 수 없습니다. 역변환 때문에... 다른 라이브러리 함수 호출 대신 그냥 손으로 계산해봅시다.\n",
    "y_hat = np.exp(brain_predicted) # 역변환으로 지수변환 해줍니다.\n",
    "y = df.brain\n",
    "y_bar = np.mean(y)\n",
    "윗변 = np.sum((y_hat - y)**2)\n",
    "아랫변 = np.sum((y_bar - y)**2)\n",
    "r_squared = 1-윗변/아랫변\n",
    "r_squared"
   ]
  },
  {
   "cell_type": "markdown",
   "metadata": {},
   "source": [
    "$$R^2 = 1-\\frac{\\sum_{i=1}^n(\\hat{y}_i-y_i)^2}{\\sum_{i=1}^n(\\bar{y}_i-y_i)^2}$$\n",
    "R-squared의 공식을 살펴보면 우리의 모델과 그냥 평균값으로 y를 예측하는 것 중에 어느 것이 나은지 비교하는 공식입니다.\n",
    "윗변은 우리의 모델이고 아랫변은 평균값으로 y를 예측하는 모델이죠.\n",
    "그렇기 때문에 2.852801750596878e-05는 아주 약간의 차이로 평균값보다 모델1이 예측하는 데에 좋은 효과를 보였다는 것입니다.\n",
    "하지만 -0.14199250553889686은 음수이기 때문에 모델2가 평균값으로 예측하는 것보다 못했다는 것을 의미합니다.\n",
    "엥? 그럼 RMSE와 R-squared 모두 레버리지 해결을 전혀 하지 않은 모델1이 나은건가요?\n",
    "일단 지표상으로는 그렇습니다. 여기서 우리는 여러가지 시나리오를 생각해봐야합니다.\n",
    "\n",
    "1. 우리의 데이터 수가 꽤나 적은 편입니다. 28종의 동물로 수만마리의 동물을 예측한다는 것은 무리입니다.\n",
    "2. 데이터를 더 모았을 때에 모델1이 더 우수한 경우와 모델2가 더 우수한 경우 두가지를 생각해 볼 수 있습니다.\n",
    "3. 만약 우리가 큰 몇 개의 값들(뇌의 무게나 몸무게가 극단적으로 큰 동물들)이 크게 상관이 없다면 모델2가 더 우수할 것입니다. 모델2는 더 작은 생물들을 잘 캡쳐해냅니다. \n",
    "4. 만약 우리가 전체적인 에러값에만 중요도를 둔다면 현재로서는 모델1이 더 우수합니다. 하지만 데이터 수를 키웠을 때의 상황은 그 누구도 모르기 때문에, 모델1과 모델2 둘다 의미가 있습니다.\n",
    "5. 연구자로서 여러분은 자신의 프로젝트에 중요한 곳에 중점을 두고 모델들을 선택해야합니다. 또한, 꼭 모델을 한 개만 선택하라는 규칙도 없습니다. 각 모델의 장단점을 비교하면서, 데이터의 양이 늘어나거나 바뀌었을 때 다른 모델도 차용가능하도록 준비해두는 것이 이상적인 연구자의 자세라고 봅니다.\n"
   ]
  },
  {
   "cell_type": "markdown",
   "metadata": {},
   "source": [
    "# Step 6-3: 두개의 모델 MAPE비교"
   ]
  },
  {
   "cell_type": "code",
   "execution_count": 80,
   "metadata": {},
   "outputs": [
    {
     "data": {
      "text/plain": [
       "10019.905277702655"
      ]
     },
     "execution_count": 80,
     "metadata": {},
     "output_type": "execute_result"
    }
   ],
   "source": [
    "# 모델 1\n",
    "\n",
    "# Step4에서의 원래의 레버리지 해결이 안된 모델로 MAPE 구해보기\n",
    "reg = LinearRegression().fit(df.body.values.reshape(-1,1), df.brain) #원래의 값으로 모델 피팅\n",
    "brain_predicted = reg.predict(df.body.values.reshape(-1,1)) # df.body값을 회귀선으로 예측\n",
    "y_hat = brain_predicted \n",
    "y = df.brain\n",
    "mape_1 = (100/len(y))*sum(abs((y_hat-y)/y))\n",
    "mape_1"
   ]
  },
  {
   "cell_type": "code",
   "execution_count": 81,
   "metadata": {},
   "outputs": [
    {
     "data": {
      "text/plain": [
       "311.9608705761414"
      ]
     },
     "execution_count": 81,
     "metadata": {},
     "output_type": "execute_result"
    }
   ],
   "source": [
    "# 모델 2\n",
    "\n",
    "# Step 5-2에서 로그 변환 후 역변환 모델로 MAPE 구해보기\n",
    "reg = LinearRegression().fit(np.log(df.body.values.reshape(-1,1)), np.log(df.brain)) #변환된 값으로 모델 피팅\n",
    "brain_predicted = reg.predict(np.log(df.body.values.reshape(-1,1))) # log(df.body)값을 회귀선으로 예측\n",
    "y_hat = np.exp(brain_predicted) # 역변환으로 지수변환 해줍니다.\n",
    "y = df.brain\n",
    "mape_1 = (100/len(y))*sum(abs((y_hat-y)/y))\n",
    "mape_1"
   ]
  },
  {
   "cell_type": "markdown",
   "metadata": {},
   "source": [
    "드디어 모델2가 훨씬 나은 지표가 나왔습니다. 모델1은 10019.9%의 평균에러가 있고 모델2는 311.9%의 평균에러가 있습니다. RMSE는 에러의 절대량을 검사하는 반면에 MAPE는 에러의 상대적 양을 검사합니다. RMSE에서 80000kg인 동물의 에러가 한개만 크게 틀려도 전체 에러 평균이 수십배 커지는 반면에, MAPE는 80000kg든 8kg든 에러의 상대적 비율로 평균을 내기 때문에 이런 결과가 나타나는 것입니다. 아까 위에 R-squared를 설명할 때에 \"모델2는 더 작은 생물들을 잘 캡쳐해냅니다.\"라는 말을 했었죠? 모델2의 MAPE값이 훨씬 좋은 이유는 이 때문입니다. RMSE에서는 큰 에러값들에 작은 에러들이 묻혀서 마치 모든 점들이 예측을 잘 못하고 있는 것처럼 나타났지만, MAPE로 보면 대부분의 점들은 상대적으로 작은 에러 비율을 가지고 있어서 모델2가 상대적 에러로는 훨씬 우위에 있음을 알 수 있습니다."
   ]
  },
  {
   "cell_type": "markdown",
   "metadata": {},
   "source": [
    "# 마치며\n",
    "원래 심각하게 비대칭적(Skewed)인 데이터들은 어떤 모델들로도 예측하기 힘듭니다. 하지만! 예측하기가 굉장히 어렵기 때문에 학습하기에는 최적입니다. 무슨 방법을 써도 만족스러운 결과가 나오기 힘들기 때문에, 끊임없이 여러가지 방법들을 시도해보고 모델들을 비교해보면서 실력이 급상승할 수 있는 데이터 셋 종류가 비대칭적인 데이터라고 생각합니다.\n",
    "\n",
    "마음 같아서는 모든 내용을 줄기차게 다 넣고 싶지만, 효율성도 고려하여 일단 여기에서 마무리 짓고 빼먹은 내용들은 천천히 부록이나 다른 강의들에서 채워나가려고 합니다. 고생하셨습니다."
   ]
  },
  {
   "cell_type": "code",
   "execution_count": null,
   "metadata": {},
   "outputs": [],
   "source": []
  },
  {
   "cell_type": "code",
   "execution_count": null,
   "metadata": {},
   "outputs": [],
   "source": []
  }
 ],
 "metadata": {
  "kernelspec": {
   "display_name": "Python 3",
   "language": "python",
   "name": "python3"
  },
  "language_info": {
   "codemirror_mode": {
    "name": "ipython",
    "version": 3
   },
   "file_extension": ".py",
   "mimetype": "text/x-python",
   "name": "python",
   "nbconvert_exporter": "python",
   "pygments_lexer": "ipython3",
   "version": "3.6.10"
  }
 },
 "nbformat": 4,
 "nbformat_minor": 4
}
