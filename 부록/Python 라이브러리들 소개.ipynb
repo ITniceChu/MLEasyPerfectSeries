{
 "cells": [
  {
   "cell_type": "markdown",
   "metadata": {},
   "source": [
    "# Numpy"
   ]
  },
  {
   "cell_type": "code",
   "execution_count": 1,
   "metadata": {},
   "outputs": [],
   "source": [
    "import numpy as np # Numpy 라이브러리를 np라는 별명으로 가져옵니다."
   ]
  },
  {
   "cell_type": "code",
   "execution_count": 4,
   "metadata": {},
   "outputs": [
    {
     "name": "stdout",
     "output_type": "stream",
     "text": [
      "[[1 2 3]\n",
      " [2 3 4]]\n"
     ]
    }
   ],
   "source": [
    "some_matrix = np.array([[1,2,3],[2,3,4]]) # 2x3 행렬을 만들어봅시다.\n",
    "print(some_matrix) # 기존 파이썬에서는 표현하기 힘든 행렬을 Numpy를 쓰니 쉽게 표현 가능합니다."
   ]
  },
  {
   "cell_type": "code",
   "execution_count": 17,
   "metadata": {},
   "outputs": [
    {
     "name": "stdout",
     "output_type": "stream",
     "text": [
      "새로 만든 행렬 출력:\n",
      "[[10]\n",
      " [10]\n",
      " [10]]\n",
      "곱셈 결과 출력:\n",
      "[[60]\n",
      " [90]]\n"
     ]
    }
   ],
   "source": [
    "some_matrix_2 = np.array([[10],[10],[10]]) # 3x1 행렬을 만듭니다.\n",
    "print('새로 만든 행렬 출력:')\n",
    "print(some_matrix_2) # 3x1 행렬을 출력해봅니다.\n",
    "print('곱셈 결과 출력:')\n",
    "print(np.dot(some_matrix, some_matrix_2)) # 2x3행렬과 3x1행렬을 곱합니다."
   ]
  },
  {
   "cell_type": "markdown",
   "metadata": {},
   "source": [
    "# Pandas"
   ]
  },
  {
   "cell_type": "code",
   "execution_count": 19,
   "metadata": {},
   "outputs": [],
   "source": [
    "import pandas as pd # pandas 라이브러리를 pd라는 별명으로 부릅니다."
   ]
  },
  {
   "cell_type": "code",
   "execution_count": 30,
   "metadata": {},
   "outputs": [
    {
     "name": "stdout",
     "output_type": "stream",
     "text": [
      "   x값  y값\n",
      "0   1  10\n",
      "1   2  20\n",
      "2   3  10\n",
      "3   4  20\n",
      "4   5  10\n"
     ]
    }
   ],
   "source": [
    "#예시로 사용될 임의의 변수 두개를 만듭니다.\n",
    "sample_x = np.array([1,2,3,4,5])\n",
    "sample_y = np.array([10,20,10,20,10])\n",
    "# pandas에서는 표를 table이라 부르지 않고 dataframe이라고 부릅니다.\n",
    "my_dataframe = pd.DataFrame({'x값':sample_x,'y값':sample_y})\n",
    "print(my_dataframe)"
   ]
  },
  {
   "cell_type": "code",
   "execution_count": 31,
   "metadata": {},
   "outputs": [
    {
     "data": {
      "text/html": [
       "<div>\n",
       "<style scoped>\n",
       "    .dataframe tbody tr th:only-of-type {\n",
       "        vertical-align: middle;\n",
       "    }\n",
       "\n",
       "    .dataframe tbody tr th {\n",
       "        vertical-align: top;\n",
       "    }\n",
       "\n",
       "    .dataframe thead th {\n",
       "        text-align: right;\n",
       "    }\n",
       "</style>\n",
       "<table border=\"1\" class=\"dataframe\">\n",
       "  <thead>\n",
       "    <tr style=\"text-align: right;\">\n",
       "      <th></th>\n",
       "      <th>x값</th>\n",
       "      <th>y값</th>\n",
       "    </tr>\n",
       "  </thead>\n",
       "  <tbody>\n",
       "    <tr>\n",
       "      <th>0</th>\n",
       "      <td>1</td>\n",
       "      <td>10</td>\n",
       "    </tr>\n",
       "    <tr>\n",
       "      <th>1</th>\n",
       "      <td>2</td>\n",
       "      <td>20</td>\n",
       "    </tr>\n",
       "    <tr>\n",
       "      <th>2</th>\n",
       "      <td>3</td>\n",
       "      <td>10</td>\n",
       "    </tr>\n",
       "    <tr>\n",
       "      <th>3</th>\n",
       "      <td>4</td>\n",
       "      <td>20</td>\n",
       "    </tr>\n",
       "    <tr>\n",
       "      <th>4</th>\n",
       "      <td>5</td>\n",
       "      <td>10</td>\n",
       "    </tr>\n",
       "  </tbody>\n",
       "</table>\n",
       "</div>"
      ],
      "text/plain": [
       "   x값  y값\n",
       "0   1  10\n",
       "1   2  20\n",
       "2   3  10\n",
       "3   4  20\n",
       "4   5  10"
      ]
     },
     "execution_count": 31,
     "metadata": {},
     "output_type": "execute_result"
    }
   ],
   "source": [
    "my_dataframe # print를 쓰지 않고 출력하면 더 예뻐요!"
   ]
  },
  {
   "cell_type": "code",
   "execution_count": 32,
   "metadata": {},
   "outputs": [
    {
     "name": "stdout",
     "output_type": "stream",
     "text": [
      "   x값  y값\n",
      "3   4  20\n",
      "4   5  10\n"
     ]
    }
   ],
   "source": [
    "# 조건식을 입력해서 특정 열들만 뽑아봅니다.\n",
    "print(my_dataframe[my_dataframe.x값>3])"
   ]
  },
  {
   "cell_type": "code",
   "execution_count": 33,
   "metadata": {},
   "outputs": [
    {
     "name": "stdout",
     "output_type": "stream",
     "text": [
      "      x값     y값\n",
      "0      1     10\n",
      "1      2     20\n",
      "2      3     10\n",
      "3  10000  10000\n",
      "4  10000  10000\n"
     ]
    }
   ],
   "source": [
    "# 조건을 만족하는 열들의 값을 바꿉니다!\n",
    "my_dataframe[my_dataframe.x값>3] = 10000\n",
    "print(my_dataframe)"
   ]
  },
  {
   "cell_type": "markdown",
   "metadata": {},
   "source": [
    "# Matplotlib"
   ]
  },
  {
   "cell_type": "code",
   "execution_count": 34,
   "metadata": {},
   "outputs": [],
   "source": [
    "import matplotlib.pyplot as plt #plt로 호출"
   ]
  },
  {
   "cell_type": "code",
   "execution_count": 41,
   "metadata": {},
   "outputs": [
    {
     "data": {
      "image/png": "[encoded data removed]",
      "text/plain": [
       "<Figure size 432x288 with 1 Axes>"
      ]
     },
     "metadata": {
      "needs_background": "light"
     },
     "output_type": "display_data"
    }
   ],
   "source": [
    "# 아까 Pandas에 저장한 행 두 개 호출\n",
    "plt.plot(my_dataframe.x값, my_dataframe.y값)\n",
    "plt.xlabel('x', fontsize=14) # x축 이름\n",
    "plt.ylabel('y', fontsize=14) # y축 이름\n",
    "plt.show()"
   ]
  },
  {
   "cell_type": "code",
   "execution_count": 42,
   "metadata": {},
   "outputs": [
    {
     "data": {
      "text/plain": [
       "<matplotlib.collections.PathCollection at 0x2d25ed0bcc0>"
      ]
     },
     "execution_count": 42,
     "metadata": {},
     "output_type": "execute_result"
    },
    {
     "data": {
      "image/png": "[encoded data removed]",
      "text/plain": [
       "<Figure size 432x288 with 1 Axes>"
      ]
     },
     "metadata": {
      "needs_background": "light"
     },
     "output_type": "display_data"
    }
   ],
   "source": [
    "# Scatter plot으로 출력\n",
    "plt.scatter(my_dataframe.x값, my_dataframe.y값)"
   ]
  },
  {
   "cell_type": "code",
   "execution_count": 43,
   "metadata": {},
   "outputs": [
    {
     "data": {
      "text/plain": [
       "<matplotlib.collections.PathCollection at 0x2d25ed7d048>"
      ]
     },
     "execution_count": 43,
     "metadata": {},
     "output_type": "execute_result"
    },
    {
     "data": {
      "image/png": "[encoded data removed]",
      "text/plain": [
       "<Figure size 432x288 with 1 Axes>"
      ]
     },
     "metadata": {
      "needs_background": "light"
     },
     "output_type": "display_data"
    }
   ],
   "source": [
    "# Scatter plot으로 출력\n",
    "my_dataframe[my_dataframe.x값>3] = 10\n",
    "plt.scatter(my_dataframe.x값, my_dataframe.y값)"
   ]
  },
  {
   "cell_type": "code",
   "execution_count": null,
   "metadata": {},
   "outputs": [],
   "source": []
  },
  {
   "cell_type": "code",
   "execution_count": null,
   "metadata": {},
   "outputs": [],
   "source": []
  },
  {
   "cell_type": "code",
   "execution_count": null,
   "metadata": {},
   "outputs": [],
   "source": []
  },
  {
   "cell_type": "code",
   "execution_count": null,
   "metadata": {},
   "outputs": [],
   "source": []
  },
  {
   "cell_type": "code",
   "execution_count": null,
   "metadata": {},
   "outputs": [],
   "source": []
  },
  {
   "cell_type": "code",
   "execution_count": null,
   "metadata": {},
   "outputs": [],
   "source": []
  },
  {
   "cell_type": "code",
   "execution_count": null,
   "metadata": {},
   "outputs": [],
   "source": []
  },
  {
   "cell_type": "code",
   "execution_count": null,
   "metadata": {},
   "outputs": [],
   "source": []
  },
  {
   "cell_type": "code",
   "execution_count": 44,
   "metadata": {},
   "outputs": [
    {
     "name": "stdout",
     "output_type": "stream",
     "text": [
      "코드 셀 아웃풋!\n"
     ]
    }
   ],
   "source": [
    "# 여긴 코드 셀이에요!\n",
    "print('코드 셀 아웃풋!')"
   ]
  },
  {
   "cell_type": "markdown",
   "metadata": {},
   "source": [
    "* 여긴 마크다운 셀이에요!"
   ]
  },
  {
   "cell_type": "markdown",
   "metadata": {},
   "source": [
    "# 타이틀도 마크다운에 #을 붙이면돼요! \n",
    "## 샵을 여러개 붙일수록 작아져요!\n",
    "### 이렇게요!\n",
    "# 마크다운 셀은 더블클릭하면 아래처럼 수정할 수 있어요."
   ]
  },
  {
   "cell_type": "markdown",
   "metadata": {},
   "source": [
    "# 타이틀도 마크다운에 #을 붙이면돼요! \n",
    "## 샵을 여러개 붙일수록 작아져요!\n",
    "### 이렇게요!\n"
   ]
  }
 ],
 "metadata": {
  "kernelspec": {
   "display_name": "Python 3",
   "language": "python",
   "name": "python3"
  },
  "language_info": {
   "codemirror_mode": {
    "name": "ipython",
    "version": 3
   },
   "file_extension": ".py",
   "mimetype": "text/x-python",
   "name": "python",
   "nbconvert_exporter": "python",
   "pygments_lexer": "ipython3",
   "version": "3.6.10"
  }
 },
 "nbformat": 4,
 "nbformat_minor": 4
}
