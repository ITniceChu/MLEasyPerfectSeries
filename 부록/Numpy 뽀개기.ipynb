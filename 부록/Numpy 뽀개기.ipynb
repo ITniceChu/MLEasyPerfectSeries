{
 "cells": [
  {
   "cell_type": "markdown",
   "metadata": {},
   "source": [
    "# Numpy 뽀개기"
   ]
  },
  {
   "cell_type": "code",
   "execution_count": 1,
   "metadata": {},
   "outputs": [],
   "source": [
    "# Numpy 호출\n",
    "import numpy as np"
   ]
  },
  {
   "cell_type": "markdown",
   "metadata": {},
   "source": [
    "# 1. 행렬 변수 정의\n",
    "numpy의 행렬 변수 타입은 ndarray라고 부릅니다."
   ]
  },
  {
   "cell_type": "code",
   "execution_count": 6,
   "metadata": {},
   "outputs": [
    {
     "name": "stdout",
     "output_type": "stream",
     "text": [
      "[1 2 3]\n",
      "[[1 1 1 1]\n",
      " [2 2 2 2]\n",
      " [3 3 3 3]\n",
      " [4 4 4 4]]\n"
     ]
    }
   ],
   "source": [
    "# 바로 정의해서 출력\n",
    "행렬1x3 = np.array([1,2,3])\n",
    "행렬4x4 = np.array([[1,1,1,1],[2,2,2,2],[3,3,3,3],[4,4,4,4]])\n",
    "print(행렬1x3)\n",
    "print(행렬4x4)"
   ]
  },
  {
   "cell_type": "code",
   "execution_count": 12,
   "metadata": {
    "scrolled": true
   },
   "outputs": [
    {
     "name": "stdout",
     "output_type": "stream",
     "text": [
      "[1, 2, 3, 4]\n",
      "<class 'list'>\n",
      "[1 2 3 4]\n",
      "<class 'numpy.ndarray'>\n"
     ]
    }
   ],
   "source": [
    "# list 타입 같은 것들도 넣으면 자동 변환됩니다.\n",
    "리스트타입변수 = [1,2,3,4]\n",
    "변환 = np.array(리스트타입변수)\n",
    "print(리스트타입변수)\n",
    "print(type(리스트타입변수))\n",
    "print(변환)\n",
    "print(type(변환))"
   ]
  },
  {
   "cell_type": "code",
   "execution_count": 24,
   "metadata": {
    "scrolled": false
   },
   "outputs": [
    {
     "name": "stdout",
     "output_type": "stream",
     "text": [
      "0    1\n",
      "1    2\n",
      "2    3\n",
      "3    4\n",
      "Name: 행1, dtype: int64\n",
      "=============\n",
      "<class 'pandas.core.series.Series'>\n",
      "=============\n",
      "[1 2 3 4]\n",
      "=============\n",
      "   행1  행2\n",
      "0   1   5\n",
      "1   2   5\n",
      "2   3   5\n",
      "3   4   7\n",
      "=============\n",
      "<class 'pandas.core.series.Series'>\n",
      "=============\n",
      "[[1 5]\n",
      " [2 5]\n",
      " [3 5]\n",
      " [4 7]]\n",
      "=============\n"
     ]
    }
   ],
   "source": [
    "# pandas의 행도 넣으면 변환됩니다.\n",
    "import pandas as pd # pandas 호출\n",
    "# pandas로 dataframe을 하나 만듭니다.\n",
    "df = pd.DataFrame({'행1':[1,2,3,4], '행2':[5,5,5,7]})\n",
    "# dataframe 오브젝트에서 행 한개를 출력합니다.\n",
    "print(df.행1)\n",
    "print('=============') # 보기 쉽게 구분선\n",
    "print(type(df.행1)) # Series 타입입니다!\n",
    "print('=============')\n",
    "print(np.array(df.행1)) # 변환\n",
    "print('=============')\n",
    "# 이번엔 dataframe 전체를 출력합니다.\n",
    "print(df)\n",
    "print('=============')\n",
    "print(type(df.행2))\n",
    "print('=============')\n",
    "print(np.array(df)) # 변환\n",
    "print('=============')"
   ]
  },
  {
   "cell_type": "code",
   "execution_count": 118,
   "metadata": {},
   "outputs": [
    {
     "data": {
      "text/plain": [
       "6"
      ]
     },
     "execution_count": 118,
     "metadata": {},
     "output_type": "execute_result"
    }
   ],
   "source": [
    "# 행렬의 크기는 .shape로 체크 \n",
    "# !주의!: shape는 함수가 아니라 ()괄호가 없습니다.\n",
    "# shape는 tuple 타입 변수를 반환합니다.\n",
    "temp_var = np.array([[1,1,1],[2,2,2]])\n",
    "temp_var.shape # 2x3 모양 행렬\n",
    "np.size(temp_var)"
   ]
  },
  {
   "cell_type": "markdown",
   "metadata": {},
   "source": [
    "# 2. 행렬 연산"
   ]
  },
  {
   "cell_type": "code",
   "execution_count": 27,
   "metadata": {},
   "outputs": [
    {
     "data": {
      "text/plain": [
       "array([10, 20, 30, 40])"
      ]
     },
     "execution_count": 27,
     "metadata": {},
     "output_type": "execute_result"
    }
   ],
   "source": [
    "# 행렬 상수 곱셈\n",
    "10*np.array([1,2,3,4])"
   ]
  },
  {
   "cell_type": "code",
   "execution_count": 31,
   "metadata": {},
   "outputs": [
    {
     "data": {
      "text/plain": [
       "array([[20, 20],\n",
       "       [50, 50]])"
      ]
     },
     "execution_count": 31,
     "metadata": {},
     "output_type": "execute_result"
    }
   ],
   "source": [
    "# 행렬 행렬 곱셈 np.dot\n",
    "var1 = np.array([[1,1,1,1],[1,2,3,4]])\n",
    "var2 = np.array([[5,5],[5,5],[5,5],[5,5]])\n",
    "np.dot(var1, var2) # (4x2)x(2x4) = 4x4 행렬 모양"
   ]
  },
  {
   "cell_type": "code",
   "execution_count": 35,
   "metadata": {},
   "outputs": [
    {
     "data": {
      "text/plain": [
       "array([[ 5,  5,  5,  5],\n",
       "       [ 5, 10, 15, 20]])"
      ]
     },
     "execution_count": 35,
     "metadata": {},
     "output_type": "execute_result"
    }
   ],
   "source": [
    "# 행렬을 한칸씩 서로 곱하게 하고 싶다면, multiply를 씁니다.\n",
    "# (element-wise multiplication)\n",
    "# 대신 그러려면 행렬 모양이 두개가 같아야 합니다.\n",
    "var1 = np.array([[1,1,1,1],[1,2,3,4]])\n",
    "var2 = np.array([[5,5,5,5],[5,5,5,5]])\n",
    "np.multiply(var1, var2)"
   ]
  },
  {
   "cell_type": "code",
   "execution_count": 36,
   "metadata": {},
   "outputs": [
    {
     "data": {
      "text/plain": [
       "array([[0.2, 0.2, 0.2, 0.2],\n",
       "       [0.2, 0.4, 0.6, 0.8]])"
      ]
     },
     "execution_count": 36,
     "metadata": {},
     "output_type": "execute_result"
    }
   ],
   "source": [
    "# 행렬을 한칸씩 서로 나누게 하고 싶다면, divide를 씁니다.\n",
    "# (element-wise division)\n",
    "# 대신 그러려면 행렬 모양이 두개가 같아야 합니다.\n",
    "var1 = np.array([[1,1,1,1],[1,2,3,4]])\n",
    "var2 = np.array([[5,5,5,5],[5,5,5,5]])\n",
    "np.divide(var1, var2)"
   ]
  },
  {
   "cell_type": "code",
   "execution_count": 43,
   "metadata": {},
   "outputs": [
    {
     "name": "stdout",
     "output_type": "stream",
     "text": [
      "[[-4 -4 -4 -4]\n",
      " [-4 -3 -2 -1]]\n",
      "[[6 6 6 6]\n",
      " [6 7 8 9]]\n"
     ]
    }
   ],
   "source": [
    "# 덧셈과 뺄셈은 행렬 모양이 같다면 가능합니다.\n",
    "var1 = np.array([[1,1,1,1],[1,2,3,4]])\n",
    "var2 = np.array([[5,5,5,5],[5,5,5,5]])\n",
    "print(var1-var2) # 혹은 np.subtract()\n",
    "print(var1+var2) # 혹은 np.add()"
   ]
  },
  {
   "cell_type": "markdown",
   "metadata": {},
   "source": [
    "# 3. 행렬 형태 변환"
   ]
  },
  {
   "cell_type": "code",
   "execution_count": 45,
   "metadata": {},
   "outputs": [
    {
     "name": "stdout",
     "output_type": "stream",
     "text": [
      "[[1 1 1 1]\n",
      " [1 2 3 4]]\n",
      "[[1 1]\n",
      " [1 2]\n",
      " [1 3]\n",
      " [1 4]]\n"
     ]
    }
   ],
   "source": [
    "# transpose 대각선으로 뒤집기\n",
    "var1 = np.array([[1,1,1,1],[1,2,3,4]])\n",
    "print(var1) # 2x4행렬\n",
    "print(np.transpose(var1)) # 4x2행렬"
   ]
  },
  {
   "cell_type": "code",
   "execution_count": 57,
   "metadata": {},
   "outputs": [
    {
     "name": "stdout",
     "output_type": "stream",
     "text": [
      "[[1 1 1 1]\n",
      " [1 2 3 4]]\n",
      "[[1 1]\n",
      " [1 1]\n",
      " [1 2]\n",
      " [3 4]]\n",
      "[[1 1 1 1 1 2 3 4]]\n",
      "[[1 1 1 1]\n",
      " [1 2 3 4]]\n",
      "[[1 1 1 1 1 2 3 4]]\n"
     ]
    }
   ],
   "source": [
    "# reshape으로 행렬 모양 작위적으로 바꾸기\n",
    "# 좌에서 우로, 위에서 아래로 순서로 순서대로\n",
    "# 자리가 잡힙니다.\n",
    "var1 = np.array([[1,1,1,1],[1,2,3,4]])\n",
    "print(var1) # 2x4행렬\n",
    "print(var1.reshape(4,2)) # 4x2행렬 (아까 전과 다릅니다!)\n",
    "print(var1.reshape(1,8)) # 1x8행렬\n",
    "\n",
    "# -1은 나머지 정해준 것만 가지고 알아서 변환해라!입니다.\n",
    "print(var1.reshape(2,-1)) # 2열로 자동 맞추기\n",
    "print(var1.reshape(-1,8)) # 8행으로 자동 맞추기"
   ]
  },
  {
   "cell_type": "markdown",
   "metadata": {},
   "source": [
    "# 4. Broadcasting"
   ]
  },
  {
   "cell_type": "code",
   "execution_count": 66,
   "metadata": {},
   "outputs": [
    {
     "data": {
      "text/plain": [
       "array([[11, 11],\n",
       "       [11, 11]])"
      ]
     },
     "execution_count": 66,
     "metadata": {},
     "output_type": "execute_result"
    }
   ],
   "source": [
    "# 상수와 행렬을 연산하면 자동으로 형태변환이 됩니다.\n",
    "1 + np.array([[10,10],[10,10]]) # 1이 마치 4x4행렬인 것처럼 연산됨."
   ]
  },
  {
   "cell_type": "code",
   "execution_count": 67,
   "metadata": {
    "scrolled": true
   },
   "outputs": [
    {
     "data": {
      "text/plain": [
       "array([[100, 100],\n",
       "       [100, 100]], dtype=int32)"
      ]
     },
     "execution_count": 67,
     "metadata": {},
     "output_type": "execute_result"
    }
   ],
   "source": [
    "# 제곱도 해봅시다.\n",
    "np.array([[10,10],[10,10]])**2"
   ]
  },
  {
   "cell_type": "markdown",
   "metadata": {},
   "source": [
    "# 5. 상수 행렬 출력"
   ]
  },
  {
   "cell_type": "code",
   "execution_count": 64,
   "metadata": {},
   "outputs": [
    {
     "name": "stdout",
     "output_type": "stream",
     "text": [
      "[1. 1. 1. 1. 1. 1. 1. 1. 1. 1.]\n",
      "[10. 10. 10. 10. 10. 10. 10. 10. 10. 10.]\n",
      "[[10. 10.]\n",
      " [10. 10.]\n",
      " [10. 10.]\n",
      " [10. 10.]\n",
      " [10. 10.]]\n",
      "[0. 0. 0.]\n"
     ]
    }
   ],
   "source": [
    "# 1이나 0으로 채워진 수들을 출력할 수도 있습니다.\n",
    "print(np.ones(10)) # 1로 채워진 길이 10짜리 출력\n",
    "print(10*np.ones(10)) # 10곱해주기\n",
    "print(10*np.ones(10).reshape(-1,2)) # 행 두개로 바꾸기\n",
    "print(np.zeros(3)) # 0을 세 개 가진 1차원 행렬"
   ]
  },
  {
   "cell_type": "markdown",
   "metadata": {},
   "source": [
    "# 6. 행렬 합치기"
   ]
  },
  {
   "cell_type": "code",
   "execution_count": 98,
   "metadata": {},
   "outputs": [
    {
     "name": "stdout",
     "output_type": "stream",
     "text": [
      "[[ 1  2  3  7  8  9]\n",
      " [ 4  5  6 10 11 12]]\n",
      "[[ 1  2  3]\n",
      " [ 4  5  6]\n",
      " [ 7  8  9]\n",
      " [10 11 12]]\n"
     ]
    }
   ],
   "source": [
    "# np.concatenate로 합칩니다.\n",
    "var1 = np.array([[1,2,3],[4,5,6]])\n",
    "var2 = np.array([[7,8,9],[10,11,12]])\n",
    "\n",
    "# np.concatenate의 문법은 조금 특이합니다.\n",
    "# np.concatenate((행렬1, 행렬2), axis=?)\n",
    "# 첫 번째 파라미터가 tuple 형식이어야합니다.\n",
    "# 한 마디로, 아래와 같이 괄호를 한 번 더 씌워줘야합니다.\n",
    "\n",
    "# axis=1은 좌우로 결합\n",
    "print(np.concatenate((var1,var2),axis=1))\n",
    "# axis=0는 위아래로 결합\n",
    "print(np.concatenate((var1,var2),axis=0))"
   ]
  },
  {
   "cell_type": "markdown",
   "metadata": {},
   "source": [
    "# 7. 행렬 분리하기"
   ]
  },
  {
   "cell_type": "code",
   "execution_count": 115,
   "metadata": {},
   "outputs": [
    {
     "name": "stdout",
     "output_type": "stream",
     "text": [
      "[[ 1  2  3  4]\n",
      " [ 5  6  7  8]\n",
      " [ 9 10 11 12]\n",
      " [13 14 15 16]]\n",
      "[[3 4]\n",
      " [7 8]]\n",
      "[[ 6  7]\n",
      " [10 11]]\n"
     ]
    }
   ],
   "source": [
    "some_var = np.array([[1,2,3,4],[5,6,7,8],[9,10,11,12],[13,14,15,16]])\n",
    "print(some_var)\n",
    "# 0,1,2,3 열과 0,1,2,3 행이 있습니다.\n",
    "\n",
    "# 0부터 1열, 그리고 2부터 3행 선택\n",
    "# 뒤의 index는 함수에 의해 -1 되어서 0:2, 2:4 해주어야\n",
    "# 0:1, 2:3 인 것 처럼 효과가 납니다.\n",
    "print(some_var[0:2, 2:4])\n",
    "\n",
    "# 1부터 2열, 그리고 1부터 2행 선택\n",
    "print(some_var[1:3, 1:3])"
   ]
  },
  {
   "cell_type": "markdown",
   "metadata": {},
   "source": [
    "# 8. 값 생성 "
   ]
  },
  {
   "cell_type": "code",
   "execution_count": 68,
   "metadata": {},
   "outputs": [
    {
     "data": {
      "text/plain": [
       "array([0.        , 0.11111111, 0.22222222, 0.33333333, 0.44444444,\n",
       "       0.55555556, 0.66666667, 0.77777778, 0.88888889, 1.        ])"
      ]
     },
     "execution_count": 68,
     "metadata": {},
     "output_type": "execute_result"
    }
   ],
   "source": [
    "# linspace는 정해준 범위 내에서 값들을 출력합니다.\n",
    "# linspace(시작 값, 끝 값, 개수)\n",
    "np.linspace(0,1,10)"
   ]
  },
  {
   "cell_type": "code",
   "execution_count": 91,
   "metadata": {},
   "outputs": [
    {
     "name": "stdout",
     "output_type": "stream",
     "text": [
      "랜덤값: [10.08118729  9.84046593  9.8668422   9.97332944  9.82170916]\n",
      "히스토그램:\n"
     ]
    },
    {
     "data": {
      "image/png": "[encoded data removed]",
      "text/plain": [
       "<Figure size 432x288 with 1 Axes>"
      ]
     },
     "metadata": {
      "needs_background": "light"
     },
     "output_type": "display_data"
    }
   ],
   "source": [
    "# np.random은 각종 랜덤 변수들을 출력합니다.\n",
    "# np.random에는 다양한 함수 종류가 있습니다.\n",
    "# 일단 np.random.normal(평균, 표준편차, 개수)는 \n",
    "# 정규 분포에서 랜덤 값을 '개수'만큼 출력합니다.\n",
    "print('랜덤값:', np.random.normal(10,0.1,5)) # 5개\n",
    "\n",
    "# 한번 그래프로 찍어봅시다.\n",
    "import matplotlib.pyplot as plt\n",
    "print('히스토그램:')\n",
    "# 만개를 출력해서 보니 정규 분포 모양입니다.\n",
    "plt.hist(np.random.normal(10,0.1,10000), bins=100)\n",
    "plt.show()"
   ]
  },
  {
   "cell_type": "code",
   "execution_count": 92,
   "metadata": {},
   "outputs": [
    {
     "data": {
      "image/png": "[encoded data removed]",
      "text/plain": [
       "<Figure size 432x288 with 1 Axes>"
      ]
     },
     "metadata": {
      "needs_background": "light"
     },
     "output_type": "display_data"
    }
   ],
   "source": [
    "# np.random.random(개수)는 \n",
    "# [0.0,1.0) 구간에서 랜덤 출력합니다.\n",
    "# 만개를 출력해서 보니 연속균등분포(Uniform Distribution)\n",
    "# 모양입니다.\n",
    "plt.hist(np.random.random(10000), bins=100)\n",
    "plt.show()"
   ]
  },
  {
   "cell_type": "code",
   "execution_count": 96,
   "metadata": {},
   "outputs": [
    {
     "name": "stdout",
     "output_type": "stream",
     "text": [
      "행렬:\n",
      "[[0.30208759 0.46848498 0.36164449]\n",
      " [0.04759758 0.66830664 0.23740243]\n",
      " [0.89958013 0.02035755 0.14229306]]\n",
      "텐서:\n",
      "[[[0.15361583 0.48766563 0.21415229]\n",
      "  [0.15447766 0.37619432 0.13657581]\n",
      "  [0.6219901  0.91531775 0.40241512]]\n",
      "\n",
      " [[0.37162739 0.83829573 0.77685607]\n",
      "  [0.93440513 0.20047128 0.64615731]\n",
      "  [0.06931096 0.67287493 0.55746819]]\n",
      "\n",
      " [[0.10156939 0.40270571 0.79896696]\n",
      "  [0.10706879 0.2524037  0.60517531]\n",
      "  [0.98329137 0.44137529 0.64832262]]]\n"
     ]
    }
   ],
   "source": [
    "# np.random.rand(열, 행, ...)은\n",
    "# 우리가 알려주는 행렬 모양대로 \n",
    "# 각 index마다 np.random.random()을\n",
    "# 적용시켜줍니다.\n",
    "# 3x3행렬 출력\n",
    "print('행렬:')\n",
    "print(np.random.rand(3,3))\n",
    "# 3x3x3텐서 출력 (3차원 부터는 텐서라고 부릅니다.)\n",
    "print('텐서:')\n",
    "print(np.random.rand(3,3,3))"
   ]
  },
  {
   "cell_type": "code",
   "execution_count": null,
   "metadata": {},
   "outputs": [],
   "source": []
  },
  {
   "cell_type": "code",
   "execution_count": null,
   "metadata": {},
   "outputs": [],
   "source": []
  }
 ],
 "metadata": {
  "kernelspec": {
   "display_name": "Python 3",
   "language": "python",
   "name": "python3"
  },
  "language_info": {
   "codemirror_mode": {
    "name": "ipython",
    "version": 3
   },
   "file_extension": ".py",
   "mimetype": "text/x-python",
   "name": "python",
   "nbconvert_exporter": "python",
   "pygments_lexer": "ipython3",
   "version": "3.6.10"
  }
 },
 "nbformat": 4,
 "nbformat_minor": 4
}
